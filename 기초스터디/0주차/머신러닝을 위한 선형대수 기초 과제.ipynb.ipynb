{
 "cells": [
  {
   "cell_type": "markdown",
   "metadata": {
    "id": "rZ3D2a26qWUQ"
   },
   "source": [
    "# 머신러닝을 위한 선형대수\n",
    "- 머신러닝, 딥러닝에 필요한 필수적인 선형대수 개념들을 정리하였습니다.\n",
    "- 복잡한 수식보다는 실제 코드 활용 위주로 자료를 제작하였습니다.\n",
    "- 참고자료 : 부스트코스 [인공지능을 위한 선형대수] (링크  https://m.boostcourse.org/ai251/intro ), 위키독스 [인공지능을 위한 기초수학] (링크 : https://wikidocs.net/book/11584)\n",
    "- 해당 자료에는 기초적인 내용들만 담고 있기 때문에 위 자료들 통해서 개인적으로 조금 더 자세하게 공부하시는 것을 추천합니다. :)"
   ]
  },
  {
   "cell_type": "markdown",
   "metadata": {
    "id": "ozylAELjx3WP"
   },
   "source": [
    "NumPy는 수학적 연산(벡터, 행렬 연산 등)을 편리하게 해주는 파이썬 라이브러리입니다. 이번 자료에서는 NumPy를 활용하여 코드 실습을 진행합니다."
   ]
  },
  {
   "cell_type": "code",
   "execution_count": null,
   "metadata": {
    "id": "JYzglsSMxzYV"
   },
   "outputs": [],
   "source": [
    "# 셀을 실행하여 numpy를 import해줍니다.\n",
    "import numpy as np"
   ]
  },
  {
   "cell_type": "markdown",
   "metadata": {
    "id": "CHh10sUGqwJj"
   },
   "source": [
    "## 1. 스칼라(Scalar), 벡터(Vector)\n",
    "### 1-1. 스칼라의 정의\n",
    "- Scalar : a single number (s ∈ ℝ)\n",
    "- 예) 3.8\n",
    "\n",
    "### 1-2. 벡터의 정의\n",
    "- Vector : an ordered list of numbers. (수학적으로 크기와 방향을 가지는 물리량을 의미)\n",
    "- 벡터는 열의 형태로 나타낼 수 있으며, 벡터는 차원의 개념으로 나타냅니다.\n",
    "- 차원은 벡터의 성분의 개수를 의미하며, 성분의 개수에 따라 2차원 벡터, 3차원 벡터 등의 다양한 차원의 벡터가 존재합니다.\n",
    "- 예) v = $[v_{1} \\ v_{2}]$ -> 2차원 벡터\n",
    "- 예) v = $[v_{1} \\ v_{2} \\ v_{3}]$ -> 3차원 벡터\n"
   ]
  },
  {
   "cell_type": "code",
   "execution_count": null,
   "metadata": {
    "colab": {
     "base_uri": "https://localhost:8080/"
    },
    "id": "QukrYOHJqOaW",
    "outputId": "038477ea-b187-4a20-d645-71e40b59f281"
   },
   "outputs": [
    {
     "name": "stdout",
     "output_type": "stream",
     "text": [
      "[3 4] (2,)\n",
      "[1 2 3] (3,)\n"
     ]
    }
   ],
   "source": [
    "# 2차원 벡터 생성\n",
    "v2 = np.array([3, 4])\n",
    "\n",
    "# 3차원 벡터 생성\n",
    "v3 = np.array([1, 2, 3])\n",
    "\n",
    "# numpy에서는 객체의 shape 함수를 사용하여 해당 객체의 형태를 확인할 수 있습니다.\n",
    "print(v2, v2.shape)\n",
    "print(v3, v3.shape)"
   ]
  },
  {
   "cell_type": "markdown",
   "metadata": {
    "id": "16gVVCGj1CVf"
   },
   "source": [
    "### 1-3. 벡터의 기본 연산\n",
    "- **u** = $[u_{1}, \\ u_{2}, \\dots, \\ u_{n}]$\n",
    "- **v** = $[v_{1}, \\ v_{2}, \\dots, \\ v_{n}]$\n",
    "- 덧셈 : **u** + **v** = $[u_{1}+v_{1}, \\ u_{2}+v_{2}, \\dots, \\ u_{n}+v_{n}]$\n",
    "- 뺄셈 : **u** - **v** = $[u_{1}-v_{1}, \\ u_{2}-v_{2}, \\dots, \\ u_{n}-v_{n}]$\n",
    "- 스칼라곱 : c * **u** = $[cu_{1}, \\ cu_{2}, \\dots, \\ cu_{n}]$\n"
   ]
  },
  {
   "cell_type": "code",
   "execution_count": null,
   "metadata": {
    "colab": {
     "base_uri": "https://localhost:8080/"
    },
    "id": "g2kJbI8S2Oyy",
    "outputId": "906f20f2-91cd-44f1-a4c8-3223c0b963e1"
   },
   "outputs": [
    {
     "name": "stdout",
     "output_type": "stream",
     "text": [
      "[3 2]\n",
      "[1 4]\n",
      "[4 6]\n"
     ]
    }
   ],
   "source": [
    "# 벡터 생성\n",
    "u = np.array([2, 3])\n",
    "v = np.array([1, -1])\n",
    "c = 2\n",
    "\n",
    "# 덧셈\n",
    "print(u + v)\n",
    "\n",
    "# 뺄셈\n",
    "print(u - v)\n",
    "\n",
    "# 스칼라곱\n",
    "print(c * u)"
   ]
  },
  {
   "cell_type": "markdown",
   "metadata": {
    "id": "y-m1jPH83Fh-"
   },
   "source": [
    "### 1-4. 벡터의 내적 (dot product)\n",
    "- 두 벡터의 각 성분을 곱한 후 그 결과를 모두 더하는 연산.\n",
    "- **u** $\\cdot$  **v** = $u_{1} \\cdot v_{1}+ \\ u_{2}  \\cdot v_{2} + \\dots + \\ u_{n} \\cdot v_{n}$\n",
    "- 내적 연산은 두 벡터의 상관관계를 나타내며, 다양한 응용 분야에서 사용되고 있다.\n",
    "- 가중합 뿐만 아니라 벡터 간 유사도 측정, 선형 방정식 연산 등에 사용될 수 있다. 여기서는 간단하게 가중합에 사용되는 예시를 살펴보자.\n",
    "\n",
    "> **가중합** : 가중합이란 단순히 각각의 데이터를 더하는 것이 아니라 각각의 수에 어떤 가중치 값을 곱한 후 이 곱셈 결과들을 다시 합한 것을 말한다. 대표적으로는 퍼셉트론 연산에 사용될 수 있다.\n",
    "\n",
    "\n",
    "\n",
    "\n",
    "\n",
    "\n"
   ]
  },
  {
   "cell_type": "code",
   "execution_count": null,
   "metadata": {
    "colab": {
     "base_uri": "https://localhost:8080/"
    },
    "id": "vUZsdSfz09YC",
    "outputId": "112f3cd1-160d-4aaf-8a7a-625c98ced9c3"
   },
   "outputs": [
    {
     "name": "stdout",
     "output_type": "stream",
     "text": [
      "-1\n"
     ]
    }
   ],
   "source": [
    "# 벡터 생성\n",
    "u = np.array([2, 3])\n",
    "v = np.array([1, -1])\n",
    "\n",
    "# 벡터 내적 : np.dot() 활용\n",
    "print(np.dot(u,v))"
   ]
  },
  {
   "cell_type": "markdown",
   "metadata": {
    "id": "ihzk21hOBciK"
   },
   "source": [
    "문제 1) A, B, C 세 회사의 주식은 각각 100만원, 80만원, 50만원이다. 이 주식을 각각 3주, 4주, 5주를 매수할 때 필요한 금액을 구하고자 한다."
   ]
  },
  {
   "cell_type": "code",
   "execution_count": 3,
   "metadata": {
    "colab": {
     "base_uri": "https://localhost:8080/"
    },
    "id": "TkZhoZ6XBNGw",
    "outputId": "c829c9ae-2f6b-49d2-f516-db339fc278a4"
   },
   "outputs": [
    {
     "name": "stdout",
     "output_type": "stream",
     "text": [
      "870\n"
     ]
    }
   ],
   "source": [
    "import numpy as np\n",
    "# 문제 1.\n",
    "# (1) 주식의 가격과 수량을 각각 𝑝 벡터, 𝑛 벡터로 표시해보자.\n",
    "p = [100, 80, 50]\n",
    "n = [3,4,5]\n",
    "\n",
    "# (2) 주식을 매수할 때 필요한 금액을 내적을 활용하여 구해보자.\n",
    "print(np.dot(p,n))"
   ]
  },
  {
   "cell_type": "markdown",
   "metadata": {
    "id": "pRVQBECOCftH"
   },
   "source": [
    "문제 2) 퍼셉트론은 인공신경망(Neural Network)의 가장 작은 단위로서, 입력값(x)에 가중치(w)를 곱하여 더한 값을 출력층으로 보낸다.\n",
    "- $x_{1}=4 , x_{2}=1, x_{3}=-1, x_{4}=3$\n",
    "- $w_{1}=0, w_{2}=1, w_{3}=0, w_{4}=2$\n",
    "\n",
    "위 조건을 고려하여 출력층에 보낼 값 y를 계산하고자 한다. (여기서는 bias, activation function 등을 고려하지 않았습니다.)"
   ]
  },
  {
   "cell_type": "markdown",
   "metadata": {
    "id": "xSepViuHB1W5"
   },
   "source": [
    "![image.png](data:image/png;base64,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)"
   ]
  },
  {
   "cell_type": "code",
   "execution_count": 4,
   "metadata": {
    "colab": {
     "base_uri": "https://localhost:8080/"
    },
    "id": "IeF36HNREMM9",
    "outputId": "bb16ca3c-a7cd-4338-b3cb-0bec12a56ec9"
   },
   "outputs": [
    {
     "name": "stdout",
     "output_type": "stream",
     "text": [
      "7\n"
     ]
    }
   ],
   "source": [
    "# 문제 2.\n",
    "# (1) 입력값과 가중치를 각각 x 벡터와 w 벡터로 나타내보자.\n",
    "x = [4,1,-1,3]\n",
    "w = [0,1,0,2]\n",
    "\n",
    "# (2) 입력값과 가중치를 내적한 값 y를 출력해보자.\n",
    "print(np.dot(x,w))"
   ]
  },
  {
   "cell_type": "markdown",
   "metadata": {
    "id": "0LljBQB0zhAM"
   },
   "source": [
    "## 2. 행렬 (Matrix)\n",
    "### 2-1. 행렬의 정의\n",
    "- 행렬은 숫자들을 격자 형태로 배열한 것으로, 행(row)과 열(column)로 구성된다.\n",
    "- 행렬의 크기는 (행의 크기 x 열의 크기)로 표현된다.\n",
    "- 예시) A = $\\begin{bmatrix}\n",
    "   a_{11} & a_{12} & a_{13}  \\\\\n",
    "   a_{21} & a_{22} & a_{23}  \\\\\n",
    "   \\end{bmatrix}$\n",
    "- 행렬 A의 크기 : (2x3)인 행렬\n",
    "\n"
   ]
  },
  {
   "cell_type": "code",
   "execution_count": null,
   "metadata": {
    "colab": {
     "base_uri": "https://localhost:8080/"
    },
    "id": "MO--Qt27Ha_D",
    "outputId": "5dde12e5-f3cb-4a8e-a4c5-f2449386b19f"
   },
   "outputs": [
    {
     "name": "stdout",
     "output_type": "stream",
     "text": [
      "첫 번째 행: [2 3 1]\n",
      "두 번째 열: [3 4]\n"
     ]
    }
   ],
   "source": [
    "# 행렬 생성\n",
    "A = np.array([[2, 3, 1], [1, 4, 0]])\n",
    "\n",
    "# 첫 번째 행 출력\n",
    "print(\"첫 번째 행:\", A[0, :]) # 출력: [2 3 1]\n",
    "\n",
    "# 두 번째 열 출력\n",
    "print(\"두 번째 열:\", A[:, 1]) # 출력: [3 4]"
   ]
  },
  {
   "cell_type": "markdown",
   "metadata": {
    "id": "05gPQnB0IdWB"
   },
   "source": [
    "### 2-2. 행렬의 기본 연산\n",
    "- $\\begin{equation*}\n",
    "A_{m,n} =\n",
    "\\begin{bmatrix}\n",
    "a_{1,1} & a_{1,2} & \\cdots & a_{1,n} \\\\\n",
    "a_{2,1} & a_{2,2} & \\cdots & a_{2,n} \\\\\n",
    "\\vdots  & \\vdots  & \\ddots & \\vdots  \\\\\n",
    "a_{m,1} & a_{m,2} & \\cdots & a_{m,n}\n",
    "\\end{bmatrix}\n",
    "\\end{equation*}$\n",
    "- $\\begin{equation*}\n",
    "B_{m,n} =\n",
    "\\begin{bmatrix}\n",
    "b_{1,1} & b_{1,2} & \\cdots & b_{1,n} \\\\\n",
    "b_{2,1} & b_{2,2} & \\cdots & b_{2,n} \\\\\n",
    "\\vdots  & \\vdots  & \\ddots & \\vdots  \\\\\n",
    "b_{m,1} & b_{m,2} & \\cdots & b_{m,n}\n",
    "\\end{bmatrix}\n",
    "\\end{equation*}$\n",
    "- 덧셈 : $\\begin{equation*}\n",
    "A + B =\n",
    "\\begin{bmatrix}\n",
    "a_{1,1} + b_{1,1} & a_{1,2} + b_{1,2} & \\cdots \\\\\n",
    "a_{2,1} + b_{2,1} & a_{2,2} + b_{2,2} & \\cdots  \\\\\n",
    "\\vdots  & \\vdots  & \\ddots &  \\\\\n",
    "\\end{bmatrix}\n",
    "\\end{equation*}$\n",
    "- 뺄셈 : $\\begin{equation*}\n",
    "A - B =\n",
    "\\begin{bmatrix}\n",
    "a_{1,1} - b_{1,1} & a_{1,2} - b_{1,2} & \\cdots \\\\\n",
    "a_{2,1} - b_{2,1} & a_{2,2} - b_{2,2} & \\cdots  \\\\\n",
    "\\vdots  & \\vdots  & \\ddots &  \\\\\n",
    "\\end{bmatrix}\n",
    "\\end{equation*}$\n",
    "- 스칼라곱 : 모든 요소에 그 스칼라 값을 곱하면 된다."
   ]
  },
  {
   "cell_type": "code",
   "execution_count": null,
   "metadata": {
    "colab": {
     "base_uri": "https://localhost:8080/"
    },
    "id": "IybP4Nj9IZJQ",
    "outputId": "353f238e-7280-44c0-e454-c5d8697cc8ab"
   },
   "outputs": [
    {
     "name": "stdout",
     "output_type": "stream",
     "text": [
      "[[7 4]\n",
      " [3 6]]\n",
      "[[-3  2]\n",
      " [-1  2]]\n",
      "[[4 6]\n",
      " [2 8]]\n",
      "[[10  3]\n",
      " [ 2  8]]\n"
     ]
    }
   ],
   "source": [
    "# 행렬 생성\n",
    "A = np.array([[2, 3], [1, 4]])\n",
    "B = np.array([[5, 1], [2, 2]])\n",
    "\n",
    "# 덧셈\n",
    "print(A + B)\n",
    "\n",
    "# 뺄셈\n",
    "print(A - B)\n",
    "\n",
    "# 스칼라곱 (*은 스칼라곱 )\n",
    "print(2 * A)\n",
    "\n",
    "# 행렬 원소 간 곱 (matrix element-wise product)\n",
    "# 하단에 설명되어 있는 행렬곱(matrix multiplication)과 구분해야 함.\n",
    "print(A * B)"
   ]
  },
  {
   "cell_type": "markdown",
   "metadata": {
    "id": "5SEg07oye-Iq"
   },
   "source": [
    "### 2-3. 행렬곱\n",
    "- 두 개의 행렬 A와 B의 곱셈은 첫 번째 행렬의 행과 두 번째 행렬의 열을 조합하여 새로운 행렬을 만드는 연산이다. 행렬 A의 열 수와 행렬 B의 행 수가 일치해야 곱셈이 가능하다.\n",
    "- 만약 A가 크기가 m x k인 행렬이고, B가 크기가 k x n인 행렬이라면, 두 행렬의 곱 C는 크기가 m x n인 행렬이다.\n",
    "- $C = A \\cdot B$\n",
    "- $C_{ij} = a_{i1} \\cdot b_{1j} + a_{i2} \\cdot b_{2j} + \\dots + a_{in} \\cdot b_{nj}$\n",
    "![image.png](data:image/png;base64,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)\n"
   ]
  },
  {
   "cell_type": "code",
   "execution_count": null,
   "metadata": {
    "colab": {
     "base_uri": "https://localhost:8080/"
    },
    "id": "hTcRwYFye9AC",
    "outputId": "f2d68242-f7b8-4fd2-faf8-018fae6b7869"
   },
   "outputs": [
    {
     "name": "stdout",
     "output_type": "stream",
     "text": [
      "[[16  8]\n",
      " [13  9]]\n",
      "[[16  8]\n",
      " [13  9]]\n"
     ]
    }
   ],
   "source": [
    "# 행렬 생성\n",
    "A = np.array([[2, 3], [1, 4]])\n",
    "B = np.array([[5, 1], [2, 2]])\n",
    "\n",
    "# 행렬곱 : @ 연산자 사용 또는 np.matmul() 사용 -> 같은 결과\n",
    "print(A @ B)\n",
    "print(np.matmul(A, B))"
   ]
  },
  {
   "cell_type": "markdown",
   "metadata": {
    "id": "j337Fdixk8qO"
   },
   "source": [
    "### 2-4. 항등행렬 (Identity Matrix)\n",
    "- 항등행렬은 행렬의 곱셈에서 곱해도 변화하지 않는 역할을 하는 특별한 행렬이다.\n",
    "- 크기에 따라서 다양한 항등행렬이 존재하며, 주로 $I$로 표기된다.\n",
    "- 항등행렬은 정사각행렬(Square Matrix)일 때만 정의되며, 대각선 상의 원소는 1로, 나머지 원소는 0으로 채워진다.\n",
    "- $I = \\begin{bmatrix}\n",
    "   1 & 0 & \\dots & 0 \\\\\n",
    "   0 & 1 & \\dots & 0 \\\\\n",
    "   \\vdots  & \\vdots  & \\ddots & \\vdots \\\\\n",
    "   0 & 0 & \\dots & 1  \\\\\n",
    "   \\end{bmatrix}$"
   ]
  },
  {
   "cell_type": "code",
   "execution_count": null,
   "metadata": {
    "colab": {
     "base_uri": "https://localhost:8080/"
    },
    "id": "aA-3MMoRlhOH",
    "outputId": "0b57dce0-f2e7-4540-8e4e-fd5d0518bdb7"
   },
   "outputs": [
    {
     "name": "stdout",
     "output_type": "stream",
     "text": [
      "[[1. 0. 0.]\n",
      " [0. 1. 0.]\n",
      " [0. 0. 1.]]\n"
     ]
    }
   ],
   "source": [
    "# 3x3 항등행렬 생성\n",
    "print(np.identity(3))"
   ]
  },
  {
   "cell_type": "markdown",
   "metadata": {
    "id": "XbtxIG-cmMro"
   },
   "source": [
    "### 2-5. 역행렬 (Inverse Matrix)\n",
    "- 역행렬은 정사각행렬 $A$에 대해서, 행렬의 곱셈에 대한 역연산을 수행하는 행렬이다.\n",
    "- 즉,\n",
    "$A$와의 곱셈 결과가 항등행렬이 되는 행렬을 역행렬이라고 한다. 역행렬은 $A^{-1}$\n",
    "로 표기한다.\n",
    "- 만약 행렬 $A$의 역행렬 $A^{-1}$이 존재한다면, 다음 식이 성립한다.\n",
    "$$A \\cdot A^{-1} = A^{-1} \\cdot A = I$$\n",
    "\n"
   ]
  },
  {
   "cell_type": "code",
   "execution_count": null,
   "metadata": {
    "colab": {
     "base_uri": "https://localhost:8080/"
    },
    "id": "7LSNA4zZmMci",
    "outputId": "a163418b-2061-42fa-f181-54840ac36b96"
   },
   "outputs": [
    {
     "name": "stdout",
     "output_type": "stream",
     "text": [
      "[[ 3. -5.]\n",
      " [-1.  2.]]\n",
      "[[1. 0.]\n",
      " [0. 1.]]\n"
     ]
    }
   ],
   "source": [
    "# 정사각행렬 A_array 생성\n",
    "A_array = np.array([[2, 5], [1, 3]])\n",
    "\n",
    "# A_array 행렬의 역행렬 연산 : np.linalg.inv()\n",
    "A_array_inv = np.linalg.inv(A_array)\n",
    "print(A_array_inv)\n",
    "\n",
    "# 역행렬 확인 -> 행렬곱 결과가 항등행렬이 됨.\n",
    "print(A_array @ A_array_inv)"
   ]
  },
  {
   "cell_type": "markdown",
   "metadata": {
    "id": "7XAXbadVohBg"
   },
   "source": [
    "### 2-6. 항등행렬과 역행렬의 활용\n",
    "항등행렬과 역행렬의 가장 큰 활용은 바로 선형시스템의 해를 구할 때이다.\n",
    "- 다음과 같은 선형연립방정식이 있다고 하자.\n",
    "   $$a_{11}x_{1} + a_{12}x_{2} + \\dots + a_{1n}x_{n} = b_{1} \\\\\n",
    "   a_{21}x_{1} + a_{22}x_{2} + \\dots + a_{2n}x_{n} = b_{2} \\\\\n",
    "   \\vdots \\\\\n",
    "   a_{n1}x_{1} + a_{n2}x_{2} + \\dots + a_{nn}x_{n} = b_{n}\n",
    "   $$  \n",
    "\n",
    "\n",
    "\n",
    "- 위와 같은 x에 대한 선형연립방정식을 행렬로 표현하면 다음과 같다.\n",
    "$$\\begin{bmatrix}\n",
    "   a_{11} & a_{12} &  \\dots & a_{1n} \\\\\n",
    "   a_{21} & a_{22} & \\dots & a_{2n} \\\\\n",
    "   \\vdots  & \\vdots  & \\ddots & \\vdots \\\\\n",
    "   a_{n1} & a_{n2} & \\dots & a_{nn}  \\\\\n",
    "   \\end{bmatrix}\n",
    "   \\begin{bmatrix}\n",
    "   x_{1} \\\\ x_{2} \\\\ \\vdots \\\\ x_{n}\\\\\n",
    "   \\end{bmatrix} =\n",
    "   \\begin{bmatrix}\n",
    "   b_{1} \\\\ b_{2} \\\\ \\vdots \\\\ b_{n}\\\\\n",
    "   \\end{bmatrix}$$\n",
    "\n",
    "\n",
    "\n",
    "- A의 역행렬 $A^{-1}$을 구할 수 있다면 위 연립방정식의 해는 다음과 같이 계산할 수 있다.\n",
    "$$X = A^{-1}B$$\n"
   ]
  },
  {
   "cell_type": "markdown",
   "metadata": {
    "id": "D3WnRZt2rPBh"
   },
   "source": [
    "문제3) 역행렬을 활용하여 다음 연립방정식의 해를 구하여라.\n",
    "$$x_{1} -2x_{2} + x_{3} = 0 \\\\\n",
    "  2x_{2} -8 x_{3} = 8 \\\\\n",
    "   5x_{1} -5 x_{3} = 10\n",
    "   $$"
   ]
  },
  {
   "cell_type": "code",
   "execution_count": 8,
   "metadata": {
    "colab": {
     "base_uri": "https://localhost:8080/"
    },
    "id": "N24CriXGIFCQ",
    "outputId": "18143690-7400-41cf-b0c0-bf2d609cadee"
   },
   "outputs": [
    {
     "name": "stdout",
     "output_type": "stream",
     "text": [
      "[ 1.00000000e+00  2.22044605e-16 -1.00000000e+00]\n",
      "[[ 1.00000000e+00  0.00000000e+00 -1.66533454e-16]\n",
      " [ 2.77555756e-17  1.00000000e+00 -2.49800181e-16]\n",
      " [ 6.93889390e-18  0.00000000e+00  1.00000000e+00]]\n"
     ]
    }
   ],
   "source": [
    "import numpy as np\n",
    "A = np.array([[1, -2, 1], [0, 2, -8], [5, 0, -5]])\n",
    "B = np.array([0, 8, 10])\n",
    "\n",
    "# A의 역행렬\n",
    "A_inverse = np.linalg.inv(A)\n",
    "\n",
    "# 해 구하기\n",
    "print(A_inverse @ B)\n",
    "\n",
    "# 해 확인\n",
    "print(A_inverse @ A)"
   ]
  },
  {
   "cell_type": "markdown",
   "metadata": {
    "id": "Z_P_jzrxvs66"
   },
   "source": [
    "### 2-7. 전치행렬(Transpose Matrix)\n",
    "- 전치행렬은 원래 행렬의 행과 열을 뒤바꾼 행렬을 말한다. 기호로 행렬 위에 T를 붙여 나타낸다.\n",
    "- $\\begin{equation*}\n",
    "A =\n",
    "\\begin{bmatrix}\n",
    "a_{11} & a_{12} & \\cdots & a_{1n} \\\\\n",
    "a_{21} & a_{22} & \\cdots & a_{2n} \\\\\n",
    "\\vdots  & \\vdots  & \\ddots & \\vdots  \\\\\n",
    "a_{m1} & a_{m2} & \\cdots & a_{mn}\n",
    "\\end{bmatrix}\n",
    "\\end{equation*}$\n",
    "- $\\begin{equation*}\n",
    "A^{T} =\n",
    "\\begin{bmatrix}\n",
    "a_{11} & a_{21} & \\cdots & a_{n1} \\\\\n",
    "a_{12} & a_{22} & \\cdots & a_{n2} \\\\\n",
    "\\vdots  & \\vdots  & \\ddots & \\vdots  \\\\\n",
    "a_{1m} & a_{2m} & \\cdots & a_{nm}\n",
    "\\end{bmatrix}\n",
    "\\end{equation*}$\n",
    "- 행렬 $A$의 크기가 m x n라면, $A^{T}$의 크기는 n x m이다.\n"
   ]
  },
  {
   "cell_type": "code",
   "execution_count": null,
   "metadata": {
    "colab": {
     "base_uri": "https://localhost:8080/"
    },
    "id": "eVM_fskYHl2H",
    "outputId": "9f011c31-4d80-4917-baa4-2f3af95805c0"
   },
   "outputs": [
    {
     "name": "stdout",
     "output_type": "stream",
     "text": [
      "[[1 4]\n",
      " [2 5]\n",
      " [3 6]]\n",
      "[[1 4]\n",
      " [2 5]\n",
      " [3 6]]\n"
     ]
    }
   ],
   "source": [
    "import numpy as np\n",
    "\n",
    "# 행렬 생성\n",
    "matrix = np.array([[1, 2, 3],\n",
    "                   [4, 5, 6]])\n",
    "\n",
    "# 전치행렬 출력 : np.transpose() 또는 .T 활용\n",
    "print(np.transpose(matrix))\n",
    "print(matrix.T)"
   ]
  }
 ],
 "metadata": {
  "colab": {
   "provenance": []
  },
  "kernelspec": {
   "display_name": "Python 3 (ipykernel)",
   "language": "python",
   "name": "python3"
  },
  "language_info": {
   "codemirror_mode": {
    "name": "ipython",
    "version": 3
   },
   "file_extension": ".py",
   "mimetype": "text/x-python",
   "name": "python",
   "nbconvert_exporter": "python",
   "pygments_lexer": "ipython3",
   "version": "3.9.12"
  }
 },
 "nbformat": 4,
 "nbformat_minor": 1
}
