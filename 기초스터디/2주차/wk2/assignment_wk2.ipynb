{
 "cells": [
  {
   "cell_type": "markdown",
   "id": "730ec190",
   "metadata": {},
   "source": [
    "# 과제"
   ]
  },
  {
   "cell_type": "markdown",
   "id": "cf5dc648",
   "metadata": {},
   "source": [
    "### Problem 1\n",
    "\n",
    "numpy를 활용해 어떤 행렬이 singular matrix인지 확인하는 함수를 작성하세요.\n",
    "\n",
    "(* singular matrix : 역행렬이 존재하지 않은 행렬)\n",
    "\n",
    "- 매개변수 : 2차원 벡터(np.array)\n",
    "- 반환값 : 인자로 주어진 벡터가 singular하면 True, non-singular하면 False를 반환"
   ]
  },
  {
   "cell_type": "code",
   "execution_count": 1,
   "id": "3722223c",
   "metadata": {},
   "outputs": [],
   "source": [
    "import numpy as np\n",
    "\n",
    "# Hint: 역행렬의 존재 조건을 고민해보세요.\n",
    "\n",
    "\n",
    "def p1(x):\n",
    "    det_value = np.linalg.det(x)\n",
    "    return abs(det_value) < 1e-10\n",
    "\n",
    "\"\"\"def p1(x):\n",
    "    if np.linalg.det(x) == 0\n",
    "        return True\n",
    "    else: \n",
    "        return False\n",
    "\"\"\""
   ]
  },
  {
   "cell_type": "code",
   "execution_count": 2,
   "id": "159ea3aa",
   "metadata": {
    "scrolled": true
   },
   "outputs": [
    {
     "name": "stdout",
     "output_type": "stream",
     "text": [
      "your answer: (True, False)\n",
      "correct\n"
     ]
    }
   ],
   "source": [
    "ex_1 = np.array([[1,4],[2,8]])\n",
    "ex_2 = np.array([[2,3],[3,4]])\n",
    "\n",
    "answer = (True, False)\n",
    "your_work = (p1(ex_1), p1(ex_2))\n",
    "\n",
    "print(\"your answer:\", your_work)\n",
    "print(\"correct\" if answer is not None and answer == your_work else \"wrong\")"
   ]
  },
  {
   "cell_type": "markdown",
   "id": "4087d608",
   "metadata": {},
   "source": [
    "### Problem 2\n",
    "numpy를 활용해 어떤 벡터가 주어졌을 때 L2 norm을 구하는 함수를 작성하세요.\n",
    "\n",
    "- 매개변수 : 1차원 벡터 (np.array)\n",
    "- 반환값 : 인자로 주어진 벡터의 L2 Norm값 (number)\n",
    "\n",
    "\n",
    "*Loss "
   ]
  },
  {
   "cell_type": "code",
   "execution_count": 7,
   "id": "1c6f93ed",
   "metadata": {},
   "outputs": [],
   "source": [
    "import numpy as np\n",
    "\n",
    "\n",
    "def p2(x):\n",
    "    x_norm = x * x\n",
    "    x_norm = np.sum(x_norm)\n",
    "    x_norm = np.sqrt(x_norm)\n",
    "    return x_norm"
   ]
  },
  {
   "cell_type": "code",
   "execution_count": 8,
   "id": "b5f1651f",
   "metadata": {},
   "outputs": [
    {
     "name": "stdout",
     "output_type": "stream",
     "text": [
      "your answer: (10.908712114635714, 6.164414002968976)\n",
      "wrong\n"
     ]
    }
   ],
   "source": [
    "ex_1 = np.array([[1,4,5],[2,8,3]])\n",
    "ex_2 = np.array([[2,3],[3,4]])\n",
    "\n",
    "answer = (10.560835223390939, 6.162277660168379)\n",
    "your_work = (p2(ex_1), p2(ex_2))\n",
    "\n",
    "print(\"your answer:\", your_work)\n",
    "print(\"correct\" if answer is not None and answer == your_work else \"wrong\")"
   ]
  },
  {
   "cell_type": "markdown",
   "id": "ac8a2bf3",
   "metadata": {},
   "source": [
    "### Problem 3\n",
    "\n",
    "(wk0 과제에서 풀었던 문항과 동일합니다.)\n",
    "\n",
    "one-hot encoding이란 인덱스의 집합이 주어졌을 때, 해당 인덱스에만 1을 부여하고 나머지 인덱스에는 0을 부여하여 데이터를 표현하는 방식입니다.\n",
    "\n",
    "예를 들어, 주어진 인덱스의 집합이 [3, 0, 2, 1] 이라면 해당 집합을 다음과 같은 2차원 행렬로 표현할 수 있습니다.\n",
    "\n",
    "\\begin{matrix}\n",
    "0 & 0 & 0 & 1 \\\\\n",
    "1 & 0 & 0 & 0 \\\\\n",
    "0 & 0 & 1 & 0 \\\\\n",
    "0 & 1 & 0 & 0\n",
    "\\end{matrix}\n",
    "\n",
    "크기 N의 정수 리스트가 주어집니다. 인덱스는 음수가 될 수 없기 때문에 음수 데이터를 삭제 한 이후, one-hot encoding이 되어있는 2차원 리스트를 구하세요.\n",
    "\n",
    "주어지는 리스트는 0 이상의 정수가 적어도 하나 존재함이 보장됩니다.\n",
    "\n",
    "단, 함수 내부 코드는 최대 **9 줄**이어야 하며 **numpy를 활용**해야 합니다."
   ]
  },
  {
   "cell_type": "code",
   "execution_count": 1,
   "id": "587c7921",
   "metadata": {},
   "outputs": [],
   "source": [
    "import numpy as np\n",
    "\n",
    "# Hint: 0을 만드는 행렬을 중심으로 조건을 바꿔보세요.\n",
    "\n",
    "def p3(arr):\n",
    "    lst = []\n",
    "    for i in arr:\n",
    "        if i >= 0:\n",
    "            lst.append(i)    \n",
    "    size = max(lst) + 1\n",
    "    answer = np.zeros((len(lst), size))\n",
    "    #answer = np.zeros((len(arr2), max(arr1) +1))\n",
    "    \n",
    "    \"\"\"for j in range(len(arr2)):\n",
    "        a[j][arr2[j]] = 1\n",
    "    return a\"\"\"\n",
    "\n",
    "    for index, value in enumerate(lst):\n",
    "        answer[index][value] = 1\n",
    "        \n",
    "    return answer.tolist()"
   ]
  },
  {
   "cell_type": "code",
   "execution_count": 2,
   "id": "2eaf542d",
   "metadata": {},
   "outputs": [
    {
     "name": "stdout",
     "output_type": "stream",
     "text": [
      "your answer: [[0.0, 0.0, 0.0, 0.0, 0.0, 1.0], [0.0, 1.0, 0.0, 0.0, 0.0, 0.0], [1.0, 0.0, 0.0, 0.0, 0.0, 0.0], [0.0, 1.0, 0.0, 0.0, 0.0, 0.0], [1.0, 0.0, 0.0, 0.0, 0.0, 0.0], [0.0, 0.0, 0.0, 0.0, 1.0, 0.0]]\n",
      "correct\n"
     ]
    }
   ],
   "source": [
    "example = [5,1,0,-3,1,0,-2,4]\n",
    "answer = [\n",
    "    [0, 0, 0, 0, 0, 1],\n",
    "    [0, 1, 0, 0, 0, 0],\n",
    "    [1, 0, 0, 0, 0, 0],\n",
    "    [0, 1, 0, 0, 0, 0],\n",
    "    [1, 0, 0, 0, 0, 0],\n",
    "    [0, 0, 0, 0, 1, 0]]\n",
    "your_work = p3(example)\n",
    "\n",
    "print(\"your answer:\", your_work)\n",
    "print(\"correct\" if answer is not None and answer == your_work else \"wrong\")"
   ]
  },
  {
   "cell_type": "code",
   "execution_count": null,
   "id": "f1f429c4",
   "metadata": {},
   "outputs": [],
   "source": [
    "#one-hot-encoding의 사용: 자연어 처리\n",
    "\n",
    "\"\"\"\n",
    "동물 = [고양이, 강아지, 호랑이]\n",
    "고양이 = [1, 0, 0]\n",
    "강아지 = [0, 1, 0]\n",
    "호랑이 = [0, 0, 1]\"\"\""
   ]
  },
  {
   "cell_type": "code",
   "execution_count": null,
   "id": "b96cc028",
   "metadata": {},
   "outputs": [],
   "source": []
  }
 ],
 "metadata": {
  "kernelspec": {
   "display_name": "Python 3 (ipykernel)",
   "language": "python",
   "name": "python3"
  },
  "language_info": {
   "codemirror_mode": {
    "name": "ipython",
    "version": 3
   },
   "file_extension": ".py",
   "mimetype": "text/x-python",
   "name": "python",
   "nbconvert_exporter": "python",
   "pygments_lexer": "ipython3",
   "version": "3.9.12"
  }
 },
 "nbformat": 4,
 "nbformat_minor": 5
}
