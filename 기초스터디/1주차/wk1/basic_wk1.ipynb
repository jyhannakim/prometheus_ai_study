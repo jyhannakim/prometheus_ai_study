{
 "cells": [
  {
   "cell_type": "markdown",
   "id": "eb972c3d-c17c-45ba-bea2-698469632cc8",
   "metadata": {
    "tags": []
   },
   "source": [
    "# 1주차: Pandas, Matplotlib, Seaborn, Scikit-Learn 맛보기"
   ]
  },
  {
   "cell_type": "markdown",
   "id": "433b21ea-c7f1-41a9-9e2a-3e20e41df095",
   "metadata": {
    "tags": []
   },
   "source": [
    "## 목차\n",
    "1. Pandas\n",
    "2. Matplotlib \n",
    "3. Seaborn\n",
    "4. Scikit-Learn"
   ]
  },
  {
   "cell_type": "markdown",
   "id": "956a030e-2b3e-4f6b-9adc-52884682b1c3",
   "metadata": {},
   "source": [
    "# 1. Pandas \n",
    "- 시리즈(Series)와 데이터프레임(DataFrame)을 통해 데이터를 효율적으로 처리하기 위해 만들어진 패키지"
   ]
  },
  {
   "cell_type": "code",
   "execution_count": 9,
   "id": "99f8ff25",
   "metadata": {},
   "outputs": [],
   "source": [
    "# import pandas package\n",
    "import pandas as pd "
   ]
  },
  {
   "cell_type": "markdown",
   "id": "208433f0",
   "metadata": {},
   "source": [
    "## 시리즈(Series)\n",
    "- 시리즈(Series)는 데이터 값에 인덱스가 함께 표시되는 클래스이다."
   ]
  },
  {
   "cell_type": "code",
   "execution_count": 10,
   "id": "43291ee2",
   "metadata": {},
   "outputs": [
    {
     "data": {
      "text/plain": [
       "혜화          41137\n",
       "수유(강북구청)    38316\n",
       "충무로         36625\n",
       "창동          31036\n",
       "dtype: int64"
      ]
     },
     "execution_count": 10,
     "metadata": {},
     "output_type": "execute_result"
    }
   ],
   "source": [
    "s = pd.Series([41137, 38316, 36625, 31036], index=[\"혜화\", \"수유(강북구청)\", \"충무로\", \"창동\"])\n",
    "s"
   ]
  },
  {
   "cell_type": "markdown",
   "id": "b2662bb5",
   "metadata": {},
   "source": [
    "- .name과 .index.name을 통해 데이터와 인덱스에 각각 이름을 설정할 수 있다."
   ]
  },
  {
   "cell_type": "code",
   "execution_count": 11,
   "id": "dc917d68",
   "metadata": {},
   "outputs": [
    {
     "data": {
      "text/plain": [
       "역명\n",
       "혜화          41137\n",
       "수유(강북구청)    38316\n",
       "충무로         36625\n",
       "창동          31036\n",
       "Name: 이용객 수, dtype: int64"
      ]
     },
     "execution_count": 11,
     "metadata": {},
     "output_type": "execute_result"
    }
   ],
   "source": [
    "s.name = \"이용객 수\"\n",
    "s.index.name = \"역명\"\n",
    "s"
   ]
  },
  {
   "cell_type": "markdown",
   "id": "4a197b74",
   "metadata": {},
   "source": [
    "- 시리즈도 리스트와 같이 인덱싱과 슬라이싱을 할 수 있다."
   ]
  },
  {
   "cell_type": "code",
   "execution_count": 12,
   "id": "8e026bfc",
   "metadata": {},
   "outputs": [
    {
     "name": "stdout",
     "output_type": "stream",
     "text": [
      "38316 38316\n",
      "역명\n",
      "혜화     41137\n",
      "충무로    36625\n",
      "Name: 이용객 수, dtype: int64\n"
     ]
    }
   ],
   "source": [
    "print(s[1], s[\"수유(강북구청)\"])\n",
    "print(s[[0, 2]])\n",
    "type(s[0]) # []사용해 values에 각각 접근 가능"
   ]
  },
  {
   "cell_type": "code",
   "execution_count": 13,
   "id": "97713ce0",
   "metadata": {},
   "outputs": [
    {
     "name": "stdout",
     "output_type": "stream",
     "text": [
      "역명\n",
      "수유(강북구청)    38316\n",
      "충무로         36625\n",
      "Name: 이용객 수, dtype: int64\n"
     ]
    }
   ],
   "source": [
    "print(s[(35000 < s) & (s < 40000)])"
   ]
  },
  {
   "cell_type": "code",
   "execution_count": 14,
   "id": "e46d66cf",
   "metadata": {},
   "outputs": [
    {
     "name": "stdout",
     "output_type": "stream",
     "text": [
      "역명\n",
      "수유(강북구청)    38316\n",
      "충무로         36625\n",
      "창동          31036\n",
      "Name: 이용객 수, dtype: int64\n"
     ]
    }
   ],
   "source": [
    "print(s[1:4])"
   ]
  },
  {
   "cell_type": "markdown",
   "id": "9a60696a",
   "metadata": {},
   "source": [
    "- 인덱싱을 활용해 딕셔러니처럼 데이터를 추가할 수 있다."
   ]
  },
  {
   "cell_type": "code",
   "execution_count": 15,
   "id": "1d74c82c",
   "metadata": {
    "scrolled": true
   },
   "outputs": [
    {
     "data": {
      "text/plain": [
       "역명\n",
       "혜화          41137\n",
       "수유(강북구청)    38316\n",
       "충무로         36625\n",
       "창동          31036\n",
       "미아사거리       29914\n",
       "Name: 이용객 수, dtype: int64"
      ]
     },
     "execution_count": 15,
     "metadata": {},
     "output_type": "execute_result"
    }
   ],
   "source": [
    "s[\"미아사거리\"] = 29914\n",
    "s"
   ]
  },
  {
   "cell_type": "markdown",
   "id": "d788b0ce",
   "metadata": {},
   "source": [
    "## 데이터프레임(DataFrame)\n",
    "### 데이터프레임 기초\n",
    "- 데이터프레임(DataFrame)은 데이터 값에 행방향과 열방향 모두의 인덱스가 표시되는 클래스이다."
   ]
  },
  {
   "cell_type": "code",
   "execution_count": 17,
   "id": "c7cc6365",
   "metadata": {
    "scrolled": true
   },
   "outputs": [
    {
     "data": {
      "text/html": [
       "<div>\n",
       "<style scoped>\n",
       "    .dataframe tbody tr th:only-of-type {\n",
       "        vertical-align: middle;\n",
       "    }\n",
       "\n",
       "    .dataframe tbody tr th {\n",
       "        vertical-align: top;\n",
       "    }\n",
       "\n",
       "    .dataframe thead th {\n",
       "        text-align: right;\n",
       "    }\n",
       "</style>\n",
       "<table border=\"1\" class=\"dataframe\">\n",
       "  <thead>\n",
       "    <tr style=\"text-align: right;\">\n",
       "      <th></th>\n",
       "      <th>202209</th>\n",
       "      <th>202208</th>\n",
       "      <th>202207</th>\n",
       "    </tr>\n",
       "  </thead>\n",
       "  <tbody>\n",
       "    <tr>\n",
       "      <th>혜화</th>\n",
       "      <td>41137</td>\n",
       "      <td>36666</td>\n",
       "      <td>37898</td>\n",
       "    </tr>\n",
       "    <tr>\n",
       "      <th>수유(강북구청)</th>\n",
       "      <td>38316</td>\n",
       "      <td>36244</td>\n",
       "      <td>37427</td>\n",
       "    </tr>\n",
       "    <tr>\n",
       "      <th>충무로</th>\n",
       "      <td>36625</td>\n",
       "      <td>29851</td>\n",
       "      <td>29587</td>\n",
       "    </tr>\n",
       "    <tr>\n",
       "      <th>창동</th>\n",
       "      <td>31036</td>\n",
       "      <td>29441</td>\n",
       "      <td>30853</td>\n",
       "    </tr>\n",
       "  </tbody>\n",
       "</table>\n",
       "</div>"
      ],
      "text/plain": [
       "          202209  202208  202207\n",
       "혜화         41137   36666   37898\n",
       "수유(강북구청)   38316   36244   37427\n",
       "충무로        36625   29851   29587\n",
       "창동         31036   29441   30853"
      ]
     },
     "execution_count": 17,
     "metadata": {},
     "output_type": "execute_result"
    }
   ],
   "source": [
    "data = {\"202209\" :[41137, 38316, 36625, 31036],\n",
    "        \"202208\" :[36666, 36244, 29851, 29441],\n",
    "        \"202207\" :[37898, 37427, 29587, 30853]}\n",
    "columns = [\"202209\", \"202208\", \"202207\"]\n",
    "index=[\"혜화\", \"수유(강북구청)\", \"충무로\", \"창동\"]\n",
    "df = pd.DataFrame(data, index = index, columns=columns)\n",
    "df"
   ]
  },
  {
   "cell_type": "markdown",
   "id": "365124d5",
   "metadata": {},
   "source": [
    "- <code>.values</code> : 데이터만 접근\n",
    "- <code>.columns</code> : 열방향 인덱스\n",
    "- <code>.index</code> : 행방향 인덱스"
   ]
  },
  {
   "cell_type": "markdown",
   "id": "a0a466c2",
   "metadata": {},
   "source": [
    "- 데이터프레임의 열 데이터 갱신 혹은 추가 방법은 다음과 같다."
   ]
  },
  {
   "cell_type": "code",
   "execution_count": 18,
   "id": "eb95fe6e",
   "metadata": {},
   "outputs": [
    {
     "data": {
      "text/html": [
       "<div>\n",
       "<style scoped>\n",
       "    .dataframe tbody tr th:only-of-type {\n",
       "        vertical-align: middle;\n",
       "    }\n",
       "\n",
       "    .dataframe tbody tr th {\n",
       "        vertical-align: top;\n",
       "    }\n",
       "\n",
       "    .dataframe thead th {\n",
       "        text-align: right;\n",
       "    }\n",
       "</style>\n",
       "<table border=\"1\" class=\"dataframe\">\n",
       "  <thead>\n",
       "    <tr style=\"text-align: right;\">\n",
       "      <th></th>\n",
       "      <th>202209</th>\n",
       "      <th>202208</th>\n",
       "      <th>202207</th>\n",
       "      <th>202208-09 증가율</th>\n",
       "      <th>202207-08 증가율</th>\n",
       "    </tr>\n",
       "  </thead>\n",
       "  <tbody>\n",
       "    <tr>\n",
       "      <th>혜화</th>\n",
       "      <td>41137</td>\n",
       "      <td>36666</td>\n",
       "      <td>37898</td>\n",
       "      <td>12.193858</td>\n",
       "      <td>-3.250831</td>\n",
       "    </tr>\n",
       "    <tr>\n",
       "      <th>수유(강북구청)</th>\n",
       "      <td>38316</td>\n",
       "      <td>36244</td>\n",
       "      <td>37427</td>\n",
       "      <td>5.716808</td>\n",
       "      <td>-3.160820</td>\n",
       "    </tr>\n",
       "    <tr>\n",
       "      <th>충무로</th>\n",
       "      <td>36625</td>\n",
       "      <td>29851</td>\n",
       "      <td>29587</td>\n",
       "      <td>22.692707</td>\n",
       "      <td>0.892284</td>\n",
       "    </tr>\n",
       "    <tr>\n",
       "      <th>창동</th>\n",
       "      <td>31036</td>\n",
       "      <td>29441</td>\n",
       "      <td>30853</td>\n",
       "      <td>5.417615</td>\n",
       "      <td>-4.576540</td>\n",
       "    </tr>\n",
       "  </tbody>\n",
       "</table>\n",
       "</div>"
      ],
      "text/plain": [
       "          202209  202208  202207  202208-09 증가율  202207-08 증가율\n",
       "혜화         41137   36666   37898      12.193858      -3.250831\n",
       "수유(강북구청)   38316   36244   37427       5.716808      -3.160820\n",
       "충무로        36625   29851   29587      22.692707       0.892284\n",
       "창동         31036   29441   30853       5.417615      -4.576540"
      ]
     },
     "execution_count": 18,
     "metadata": {},
     "output_type": "execute_result"
    }
   ],
   "source": [
    "df[\"202208-09 증가율\"] = (df[\"202209\"]-df[\"202208\"])/df[\"202208\"] * 100\n",
    "df[\"202207-08 증가율\"] = (df[\"202208\"]-df[\"202207\"])/df[\"202207\"] * 100\n",
    "df"
   ]
  },
  {
   "cell_type": "markdown",
   "id": "c2f3a485",
   "metadata": {},
   "source": [
    "- csv 파일로부터 데이터를 읽어 데이터프레임을 만들 때는 <code>pandas.read_csv()</code> 함수를 사용한다."
   ]
  },
  {
   "cell_type": "code",
   "execution_count": 20,
   "id": "ea9c3c76",
   "metadata": {},
   "outputs": [
    {
     "data": {
      "text/html": [
       "<div>\n",
       "<style scoped>\n",
       "    .dataframe tbody tr th:only-of-type {\n",
       "        vertical-align: middle;\n",
       "    }\n",
       "\n",
       "    .dataframe tbody tr th {\n",
       "        vertical-align: top;\n",
       "    }\n",
       "\n",
       "    .dataframe thead th {\n",
       "        text-align: right;\n",
       "    }\n",
       "</style>\n",
       "<table border=\"1\" class=\"dataframe\">\n",
       "  <thead>\n",
       "    <tr style=\"text-align: right;\">\n",
       "      <th></th>\n",
       "      <th>show_id</th>\n",
       "      <th>type</th>\n",
       "      <th>title</th>\n",
       "      <th>director</th>\n",
       "      <th>cast</th>\n",
       "      <th>country</th>\n",
       "      <th>date_added</th>\n",
       "      <th>release_year</th>\n",
       "      <th>duration</th>\n",
       "      <th>description</th>\n",
       "      <th>genre</th>\n",
       "    </tr>\n",
       "  </thead>\n",
       "  <tbody>\n",
       "    <tr>\n",
       "      <th>0</th>\n",
       "      <td>s1</td>\n",
       "      <td>TV Show</td>\n",
       "      <td>3%</td>\n",
       "      <td>NaN</td>\n",
       "      <td>João Miguel, Bianca Comparato, Michel Gomes, R...</td>\n",
       "      <td>Brazil</td>\n",
       "      <td>August 14, 2020</td>\n",
       "      <td>2020</td>\n",
       "      <td>4</td>\n",
       "      <td>In a future where the elite inhabit an island ...</td>\n",
       "      <td>International TV</td>\n",
       "    </tr>\n",
       "    <tr>\n",
       "      <th>1</th>\n",
       "      <td>s2</td>\n",
       "      <td>Movie</td>\n",
       "      <td>7:19</td>\n",
       "      <td>Jorge Michel Grau</td>\n",
       "      <td>Demián Bichir, Héctor Bonilla, Oscar Serrano, ...</td>\n",
       "      <td>Mexico</td>\n",
       "      <td>December 23, 2016</td>\n",
       "      <td>2016</td>\n",
       "      <td>93</td>\n",
       "      <td>After a devastating earthquake hits Mexico Cit...</td>\n",
       "      <td>Dramas</td>\n",
       "    </tr>\n",
       "    <tr>\n",
       "      <th>2</th>\n",
       "      <td>s3</td>\n",
       "      <td>Movie</td>\n",
       "      <td>23:59</td>\n",
       "      <td>Gilbert Chan</td>\n",
       "      <td>Tedd Chan, Stella Chung, Henley Hii, Lawrence ...</td>\n",
       "      <td>Singapore</td>\n",
       "      <td>December 20, 2018</td>\n",
       "      <td>2011</td>\n",
       "      <td>78</td>\n",
       "      <td>When an army recruit is found dead, his fellow...</td>\n",
       "      <td>Horror Movies</td>\n",
       "    </tr>\n",
       "    <tr>\n",
       "      <th>3</th>\n",
       "      <td>s4</td>\n",
       "      <td>Movie</td>\n",
       "      <td>9</td>\n",
       "      <td>Shane Acker</td>\n",
       "      <td>Elijah Wood, John C. Reilly, Jennifer Connelly...</td>\n",
       "      <td>United States</td>\n",
       "      <td>November 16, 2017</td>\n",
       "      <td>2009</td>\n",
       "      <td>80</td>\n",
       "      <td>In a postapocalyptic world, rag-doll robots hi...</td>\n",
       "      <td>Action</td>\n",
       "    </tr>\n",
       "    <tr>\n",
       "      <th>4</th>\n",
       "      <td>s5</td>\n",
       "      <td>Movie</td>\n",
       "      <td>21</td>\n",
       "      <td>Robert Luketic</td>\n",
       "      <td>Jim Sturgess, Kevin Spacey, Kate Bosworth, Aar...</td>\n",
       "      <td>United States</td>\n",
       "      <td>January 1, 2020</td>\n",
       "      <td>2008</td>\n",
       "      <td>123</td>\n",
       "      <td>A brilliant group of students become card-coun...</td>\n",
       "      <td>Dramas</td>\n",
       "    </tr>\n",
       "    <tr>\n",
       "      <th>...</th>\n",
       "      <td>...</td>\n",
       "      <td>...</td>\n",
       "      <td>...</td>\n",
       "      <td>...</td>\n",
       "      <td>...</td>\n",
       "      <td>...</td>\n",
       "      <td>...</td>\n",
       "      <td>...</td>\n",
       "      <td>...</td>\n",
       "      <td>...</td>\n",
       "      <td>...</td>\n",
       "    </tr>\n",
       "    <tr>\n",
       "      <th>7782</th>\n",
       "      <td>s7783</td>\n",
       "      <td>Movie</td>\n",
       "      <td>Zozo</td>\n",
       "      <td>Josef Fares</td>\n",
       "      <td>Imad Creidi, Antoinette Turk, Elias Gergi, Car...</td>\n",
       "      <td>Sweden</td>\n",
       "      <td>October 19, 2020</td>\n",
       "      <td>2005</td>\n",
       "      <td>99</td>\n",
       "      <td>When Lebanon's Civil War deprives Zozo of his ...</td>\n",
       "      <td>Dramas</td>\n",
       "    </tr>\n",
       "    <tr>\n",
       "      <th>7783</th>\n",
       "      <td>s7784</td>\n",
       "      <td>Movie</td>\n",
       "      <td>Zubaan</td>\n",
       "      <td>Mozez Singh</td>\n",
       "      <td>Vicky Kaushal, Sarah-Jane Dias, Raaghav Chanan...</td>\n",
       "      <td>India</td>\n",
       "      <td>March 2, 2019</td>\n",
       "      <td>2015</td>\n",
       "      <td>111</td>\n",
       "      <td>A scrappy but poor boy worms his way into a ty...</td>\n",
       "      <td>Dramas</td>\n",
       "    </tr>\n",
       "    <tr>\n",
       "      <th>7784</th>\n",
       "      <td>s7785</td>\n",
       "      <td>Movie</td>\n",
       "      <td>Zulu Man in Japan</td>\n",
       "      <td>NaN</td>\n",
       "      <td>Nasty C</td>\n",
       "      <td>NaN</td>\n",
       "      <td>September 25, 2020</td>\n",
       "      <td>2019</td>\n",
       "      <td>44</td>\n",
       "      <td>In this documentary, South African rapper Nast...</td>\n",
       "      <td>Documentaries</td>\n",
       "    </tr>\n",
       "    <tr>\n",
       "      <th>7785</th>\n",
       "      <td>s7786</td>\n",
       "      <td>TV Show</td>\n",
       "      <td>Zumbo's Just Desserts</td>\n",
       "      <td>NaN</td>\n",
       "      <td>Adriano Zumbo, Rachel Khoo</td>\n",
       "      <td>Australia</td>\n",
       "      <td>October 31, 2020</td>\n",
       "      <td>2019</td>\n",
       "      <td>1</td>\n",
       "      <td>Dessert wizard Adriano Zumbo looks for the nex...</td>\n",
       "      <td>International TV</td>\n",
       "    </tr>\n",
       "    <tr>\n",
       "      <th>7786</th>\n",
       "      <td>s7787</td>\n",
       "      <td>Movie</td>\n",
       "      <td>ZZ TOP: THAT LITTLE OL' BAND FROM TEXAS</td>\n",
       "      <td>Sam Dunn</td>\n",
       "      <td>NaN</td>\n",
       "      <td>United Kingdom</td>\n",
       "      <td>March 1, 2020</td>\n",
       "      <td>2019</td>\n",
       "      <td>90</td>\n",
       "      <td>This documentary delves into the mystique behi...</td>\n",
       "      <td>Documentaries</td>\n",
       "    </tr>\n",
       "  </tbody>\n",
       "</table>\n",
       "<p>7787 rows × 11 columns</p>\n",
       "</div>"
      ],
      "text/plain": [
       "     show_id     type                                    title  \\\n",
       "0         s1  TV Show                                       3%   \n",
       "1         s2    Movie                                     7:19   \n",
       "2         s3    Movie                                    23:59   \n",
       "3         s4    Movie                                        9   \n",
       "4         s5    Movie                                       21   \n",
       "...      ...      ...                                      ...   \n",
       "7782   s7783    Movie                                     Zozo   \n",
       "7783   s7784    Movie                                   Zubaan   \n",
       "7784   s7785    Movie                        Zulu Man in Japan   \n",
       "7785   s7786  TV Show                    Zumbo's Just Desserts   \n",
       "7786   s7787    Movie  ZZ TOP: THAT LITTLE OL' BAND FROM TEXAS   \n",
       "\n",
       "               director                                               cast  \\\n",
       "0                   NaN  João Miguel, Bianca Comparato, Michel Gomes, R...   \n",
       "1     Jorge Michel Grau  Demián Bichir, Héctor Bonilla, Oscar Serrano, ...   \n",
       "2          Gilbert Chan  Tedd Chan, Stella Chung, Henley Hii, Lawrence ...   \n",
       "3           Shane Acker  Elijah Wood, John C. Reilly, Jennifer Connelly...   \n",
       "4        Robert Luketic  Jim Sturgess, Kevin Spacey, Kate Bosworth, Aar...   \n",
       "...                 ...                                                ...   \n",
       "7782        Josef Fares  Imad Creidi, Antoinette Turk, Elias Gergi, Car...   \n",
       "7783        Mozez Singh  Vicky Kaushal, Sarah-Jane Dias, Raaghav Chanan...   \n",
       "7784                NaN                                            Nasty C   \n",
       "7785                NaN                         Adriano Zumbo, Rachel Khoo   \n",
       "7786           Sam Dunn                                                NaN   \n",
       "\n",
       "             country          date_added  release_year  duration  \\\n",
       "0             Brazil     August 14, 2020          2020         4   \n",
       "1             Mexico   December 23, 2016          2016        93   \n",
       "2          Singapore   December 20, 2018          2011        78   \n",
       "3      United States   November 16, 2017          2009        80   \n",
       "4      United States     January 1, 2020          2008       123   \n",
       "...              ...                 ...           ...       ...   \n",
       "7782          Sweden    October 19, 2020          2005        99   \n",
       "7783           India       March 2, 2019          2015       111   \n",
       "7784             NaN  September 25, 2020          2019        44   \n",
       "7785       Australia    October 31, 2020          2019         1   \n",
       "7786  United Kingdom       March 1, 2020          2019        90   \n",
       "\n",
       "                                            description             genre  \n",
       "0     In a future where the elite inhabit an island ...  International TV  \n",
       "1     After a devastating earthquake hits Mexico Cit...            Dramas  \n",
       "2     When an army recruit is found dead, his fellow...     Horror Movies  \n",
       "3     In a postapocalyptic world, rag-doll robots hi...            Action  \n",
       "4     A brilliant group of students become card-coun...            Dramas  \n",
       "...                                                 ...               ...  \n",
       "7782  When Lebanon's Civil War deprives Zozo of his ...            Dramas  \n",
       "7783  A scrappy but poor boy worms his way into a ty...            Dramas  \n",
       "7784  In this documentary, South African rapper Nast...     Documentaries  \n",
       "7785  Dessert wizard Adriano Zumbo looks for the nex...  International TV  \n",
       "7786  This documentary delves into the mystique behi...     Documentaries  \n",
       "\n",
       "[7787 rows x 11 columns]"
      ]
     },
     "execution_count": 20,
     "metadata": {},
     "output_type": "execute_result"
    }
   ],
   "source": [
    "netflix_df = pd.read_csv(\"datasets/netflix_data.csv\") \n",
    "netflix_df"
   ]
  },
  {
   "cell_type": "markdown",
   "id": "413a5665",
   "metadata": {},
   "source": [
    "### 인덱싱 및 정렬\n",
    "**열 인덱싱** : 데이터프레임을 column index를 통해 인덱싱을 할 수 있다. 인덱스로 라벨 값을 하나만 넣으면 시리즈로 반환되므로, 이런 경우에 데이터프레임으로 출력하고 싶을 때는 리스트를 써서 인덱싱을 하면 된다."
   ]
  },
  {
   "cell_type": "code",
   "execution_count": 21,
   "id": "6e071eed",
   "metadata": {},
   "outputs": [
    {
     "data": {
      "text/plain": [
       "0                                            3%\n",
       "1                                          7:19\n",
       "2                                         23:59\n",
       "3                                             9\n",
       "4                                            21\n",
       "                         ...                   \n",
       "7782                                       Zozo\n",
       "7783                                     Zubaan\n",
       "7784                          Zulu Man in Japan\n",
       "7785                      Zumbo's Just Desserts\n",
       "7786    ZZ TOP: THAT LITTLE OL' BAND FROM TEXAS\n",
       "Name: title, Length: 7787, dtype: object"
      ]
     },
     "execution_count": 21,
     "metadata": {},
     "output_type": "execute_result"
    }
   ],
   "source": [
    "netflix_df[\"title\"]"
   ]
  },
  {
   "cell_type": "code",
   "execution_count": 22,
   "id": "4bebd9aa",
   "metadata": {},
   "outputs": [
    {
     "data": {
      "text/html": [
       "<div>\n",
       "<style scoped>\n",
       "    .dataframe tbody tr th:only-of-type {\n",
       "        vertical-align: middle;\n",
       "    }\n",
       "\n",
       "    .dataframe tbody tr th {\n",
       "        vertical-align: top;\n",
       "    }\n",
       "\n",
       "    .dataframe thead th {\n",
       "        text-align: right;\n",
       "    }\n",
       "</style>\n",
       "<table border=\"1\" class=\"dataframe\">\n",
       "  <thead>\n",
       "    <tr style=\"text-align: right;\">\n",
       "      <th></th>\n",
       "      <th>title</th>\n",
       "    </tr>\n",
       "  </thead>\n",
       "  <tbody>\n",
       "    <tr>\n",
       "      <th>0</th>\n",
       "      <td>3%</td>\n",
       "    </tr>\n",
       "    <tr>\n",
       "      <th>1</th>\n",
       "      <td>7:19</td>\n",
       "    </tr>\n",
       "    <tr>\n",
       "      <th>2</th>\n",
       "      <td>23:59</td>\n",
       "    </tr>\n",
       "    <tr>\n",
       "      <th>3</th>\n",
       "      <td>9</td>\n",
       "    </tr>\n",
       "    <tr>\n",
       "      <th>4</th>\n",
       "      <td>21</td>\n",
       "    </tr>\n",
       "    <tr>\n",
       "      <th>...</th>\n",
       "      <td>...</td>\n",
       "    </tr>\n",
       "    <tr>\n",
       "      <th>7782</th>\n",
       "      <td>Zozo</td>\n",
       "    </tr>\n",
       "    <tr>\n",
       "      <th>7783</th>\n",
       "      <td>Zubaan</td>\n",
       "    </tr>\n",
       "    <tr>\n",
       "      <th>7784</th>\n",
       "      <td>Zulu Man in Japan</td>\n",
       "    </tr>\n",
       "    <tr>\n",
       "      <th>7785</th>\n",
       "      <td>Zumbo's Just Desserts</td>\n",
       "    </tr>\n",
       "    <tr>\n",
       "      <th>7786</th>\n",
       "      <td>ZZ TOP: THAT LITTLE OL' BAND FROM TEXAS</td>\n",
       "    </tr>\n",
       "  </tbody>\n",
       "</table>\n",
       "<p>7787 rows × 1 columns</p>\n",
       "</div>"
      ],
      "text/plain": [
       "                                        title\n",
       "0                                          3%\n",
       "1                                        7:19\n",
       "2                                       23:59\n",
       "3                                           9\n",
       "4                                          21\n",
       "...                                       ...\n",
       "7782                                     Zozo\n",
       "7783                                   Zubaan\n",
       "7784                        Zulu Man in Japan\n",
       "7785                    Zumbo's Just Desserts\n",
       "7786  ZZ TOP: THAT LITTLE OL' BAND FROM TEXAS\n",
       "\n",
       "[7787 rows x 1 columns]"
      ]
     },
     "execution_count": 22,
     "metadata": {},
     "output_type": "execute_result"
    }
   ],
   "source": [
    "netflix_df[[\"title\"]]\n"
   ]
  },
  {
   "cell_type": "markdown",
   "id": "d9d333c7",
   "metadata": {},
   "source": [
    "**행 인덱싱** : 데이터프레임을 행 단위로 인덱싱을 하고자 한다면 슬라이싱을 이용해야 한다."
   ]
  },
  {
   "cell_type": "code",
   "execution_count": 23,
   "id": "f790a701",
   "metadata": {},
   "outputs": [
    {
     "data": {
      "text/html": [
       "<div>\n",
       "<style scoped>\n",
       "    .dataframe tbody tr th:only-of-type {\n",
       "        vertical-align: middle;\n",
       "    }\n",
       "\n",
       "    .dataframe tbody tr th {\n",
       "        vertical-align: top;\n",
       "    }\n",
       "\n",
       "    .dataframe thead th {\n",
       "        text-align: right;\n",
       "    }\n",
       "</style>\n",
       "<table border=\"1\" class=\"dataframe\">\n",
       "  <thead>\n",
       "    <tr style=\"text-align: right;\">\n",
       "      <th></th>\n",
       "      <th>202209</th>\n",
       "      <th>202208</th>\n",
       "      <th>202207</th>\n",
       "      <th>202208-09 증가율</th>\n",
       "      <th>202207-08 증가율</th>\n",
       "    </tr>\n",
       "  </thead>\n",
       "  <tbody>\n",
       "    <tr>\n",
       "      <th>수유(강북구청)</th>\n",
       "      <td>38316</td>\n",
       "      <td>36244</td>\n",
       "      <td>37427</td>\n",
       "      <td>5.716808</td>\n",
       "      <td>-3.16082</td>\n",
       "    </tr>\n",
       "  </tbody>\n",
       "</table>\n",
       "</div>"
      ],
      "text/plain": [
       "          202209  202208  202207  202208-09 증가율  202207-08 증가율\n",
       "수유(강북구청)   38316   36244   37427       5.716808       -3.16082"
      ]
     },
     "execution_count": 23,
     "metadata": {},
     "output_type": "execute_result"
    }
   ],
   "source": [
    "df[1:2]"
   ]
  },
  {
   "cell_type": "code",
   "execution_count": 24,
   "id": "a96340fb",
   "metadata": {},
   "outputs": [
    {
     "data": {
      "text/html": [
       "<div>\n",
       "<style scoped>\n",
       "    .dataframe tbody tr th:only-of-type {\n",
       "        vertical-align: middle;\n",
       "    }\n",
       "\n",
       "    .dataframe tbody tr th {\n",
       "        vertical-align: top;\n",
       "    }\n",
       "\n",
       "    .dataframe thead th {\n",
       "        text-align: right;\n",
       "    }\n",
       "</style>\n",
       "<table border=\"1\" class=\"dataframe\">\n",
       "  <thead>\n",
       "    <tr style=\"text-align: right;\">\n",
       "      <th></th>\n",
       "      <th>202209</th>\n",
       "      <th>202208</th>\n",
       "      <th>202207</th>\n",
       "      <th>202208-09 증가율</th>\n",
       "      <th>202207-08 증가율</th>\n",
       "    </tr>\n",
       "  </thead>\n",
       "  <tbody>\n",
       "    <tr>\n",
       "      <th>수유(강북구청)</th>\n",
       "      <td>38316</td>\n",
       "      <td>36244</td>\n",
       "      <td>37427</td>\n",
       "      <td>5.716808</td>\n",
       "      <td>-3.160820</td>\n",
       "    </tr>\n",
       "    <tr>\n",
       "      <th>충무로</th>\n",
       "      <td>36625</td>\n",
       "      <td>29851</td>\n",
       "      <td>29587</td>\n",
       "      <td>22.692707</td>\n",
       "      <td>0.892284</td>\n",
       "    </tr>\n",
       "    <tr>\n",
       "      <th>창동</th>\n",
       "      <td>31036</td>\n",
       "      <td>29441</td>\n",
       "      <td>30853</td>\n",
       "      <td>5.417615</td>\n",
       "      <td>-4.576540</td>\n",
       "    </tr>\n",
       "  </tbody>\n",
       "</table>\n",
       "</div>"
      ],
      "text/plain": [
       "          202209  202208  202207  202208-09 증가율  202207-08 증가율\n",
       "수유(강북구청)   38316   36244   37427       5.716808      -3.160820\n",
       "충무로        36625   29851   29587      22.692707       0.892284\n",
       "창동         31036   29441   30853       5.417615      -4.576540"
      ]
     },
     "execution_count": 24,
     "metadata": {},
     "output_type": "execute_result"
    }
   ],
   "source": [
    "df[\"수유(강북구청)\":\"창동\"]"
   ]
  },
  {
   "cell_type": "code",
   "execution_count": 25,
   "id": "11538f16",
   "metadata": {},
   "outputs": [
    {
     "data": {
      "text/plain": [
       "36625"
      ]
     },
     "execution_count": 25,
     "metadata": {},
     "output_type": "execute_result"
    }
   ],
   "source": [
    "df[\"202209\"][\"충무로\"] #순서 바꾸면 에러"
   ]
  },
  {
   "cell_type": "markdown",
   "id": "c6d9ae78",
   "metadata": {},
   "source": [
    "**.loc 인덱서**\n",
    "\n",
    "<code>.loc[행 인덱싱값]</code> 혹은 <code>.loc[행 인덱싱값, 열 인덱싱 값]</code>"
   ]
  },
  {
   "cell_type": "code",
   "execution_count": 26,
   "id": "03e52b40",
   "metadata": {},
   "outputs": [
    {
     "data": {
      "text/html": [
       "<div>\n",
       "<style scoped>\n",
       "    .dataframe tbody tr th:only-of-type {\n",
       "        vertical-align: middle;\n",
       "    }\n",
       "\n",
       "    .dataframe tbody tr th {\n",
       "        vertical-align: top;\n",
       "    }\n",
       "\n",
       "    .dataframe thead th {\n",
       "        text-align: right;\n",
       "    }\n",
       "</style>\n",
       "<table border=\"1\" class=\"dataframe\">\n",
       "  <thead>\n",
       "    <tr style=\"text-align: right;\">\n",
       "      <th></th>\n",
       "      <th>title</th>\n",
       "      <th>director</th>\n",
       "      <th>cast</th>\n",
       "      <th>country</th>\n",
       "    </tr>\n",
       "  </thead>\n",
       "  <tbody>\n",
       "    <tr>\n",
       "      <th>0</th>\n",
       "      <td>3%</td>\n",
       "      <td>NaN</td>\n",
       "      <td>João Miguel, Bianca Comparato, Michel Gomes, R...</td>\n",
       "      <td>Brazil</td>\n",
       "    </tr>\n",
       "    <tr>\n",
       "      <th>1</th>\n",
       "      <td>7:19</td>\n",
       "      <td>Jorge Michel Grau</td>\n",
       "      <td>Demián Bichir, Héctor Bonilla, Oscar Serrano, ...</td>\n",
       "      <td>Mexico</td>\n",
       "    </tr>\n",
       "    <tr>\n",
       "      <th>2</th>\n",
       "      <td>23:59</td>\n",
       "      <td>Gilbert Chan</td>\n",
       "      <td>Tedd Chan, Stella Chung, Henley Hii, Lawrence ...</td>\n",
       "      <td>Singapore</td>\n",
       "    </tr>\n",
       "    <tr>\n",
       "      <th>3</th>\n",
       "      <td>9</td>\n",
       "      <td>Shane Acker</td>\n",
       "      <td>Elijah Wood, John C. Reilly, Jennifer Connelly...</td>\n",
       "      <td>United States</td>\n",
       "    </tr>\n",
       "    <tr>\n",
       "      <th>4</th>\n",
       "      <td>21</td>\n",
       "      <td>Robert Luketic</td>\n",
       "      <td>Jim Sturgess, Kevin Spacey, Kate Bosworth, Aar...</td>\n",
       "      <td>United States</td>\n",
       "    </tr>\n",
       "  </tbody>\n",
       "</table>\n",
       "</div>"
      ],
      "text/plain": [
       "   title           director  \\\n",
       "0     3%                NaN   \n",
       "1   7:19  Jorge Michel Grau   \n",
       "2  23:59       Gilbert Chan   \n",
       "3      9        Shane Acker   \n",
       "4     21     Robert Luketic   \n",
       "\n",
       "                                                cast        country  \n",
       "0  João Miguel, Bianca Comparato, Michel Gomes, R...         Brazil  \n",
       "1  Demián Bichir, Héctor Bonilla, Oscar Serrano, ...         Mexico  \n",
       "2  Tedd Chan, Stella Chung, Henley Hii, Lawrence ...      Singapore  \n",
       "3  Elijah Wood, John C. Reilly, Jennifer Connelly...  United States  \n",
       "4  Jim Sturgess, Kevin Spacey, Kate Bosworth, Aar...  United States  "
      ]
     },
     "execution_count": 26,
     "metadata": {},
     "output_type": "execute_result"
    }
   ],
   "source": [
    "netflix_df.loc[0:4, \"title\":\"country\"]"
   ]
  },
  {
   "cell_type": "code",
   "execution_count": 28,
   "id": "a4001a47",
   "metadata": {
    "scrolled": true
   },
   "outputs": [
    {
     "data": {
      "text/html": [
       "<div>\n",
       "<style scoped>\n",
       "    .dataframe tbody tr th:only-of-type {\n",
       "        vertical-align: middle;\n",
       "    }\n",
       "\n",
       "    .dataframe tbody tr th {\n",
       "        vertical-align: top;\n",
       "    }\n",
       "\n",
       "    .dataframe thead th {\n",
       "        text-align: right;\n",
       "    }\n",
       "</style>\n",
       "<table border=\"1\" class=\"dataframe\">\n",
       "  <thead>\n",
       "    <tr style=\"text-align: right;\">\n",
       "      <th></th>\n",
       "      <th>title</th>\n",
       "      <th>genre</th>\n",
       "    </tr>\n",
       "  </thead>\n",
       "  <tbody>\n",
       "    <tr>\n",
       "      <th>0</th>\n",
       "      <td>3%</td>\n",
       "      <td>International TV</td>\n",
       "    </tr>\n",
       "    <tr>\n",
       "      <th>24</th>\n",
       "      <td>​SAINT SEIYA: Knights of the Zodiac</td>\n",
       "      <td>Anime Series</td>\n",
       "    </tr>\n",
       "    <tr>\n",
       "      <th>26</th>\n",
       "      <td>(Un)Well</td>\n",
       "      <td>Reality TV</td>\n",
       "    </tr>\n",
       "    <tr>\n",
       "      <th>27</th>\n",
       "      <td>#Alive</td>\n",
       "      <td>Horror Movies</td>\n",
       "    </tr>\n",
       "    <tr>\n",
       "      <th>29</th>\n",
       "      <td>#blackAF</td>\n",
       "      <td>TV Comedies</td>\n",
       "    </tr>\n",
       "    <tr>\n",
       "      <th>...</th>\n",
       "      <td>...</td>\n",
       "      <td>...</td>\n",
       "    </tr>\n",
       "    <tr>\n",
       "      <th>7725</th>\n",
       "      <td>You Cannot Hide</td>\n",
       "      <td>Crime TV</td>\n",
       "    </tr>\n",
       "    <tr>\n",
       "      <th>7734</th>\n",
       "      <td>You've Got This</td>\n",
       "      <td>Comedies</td>\n",
       "    </tr>\n",
       "    <tr>\n",
       "      <th>7738</th>\n",
       "      <td>Young Wallander</td>\n",
       "      <td>Crime TV</td>\n",
       "    </tr>\n",
       "    <tr>\n",
       "      <th>7741</th>\n",
       "      <td>Your Name Engraved Herein</td>\n",
       "      <td>Dramas</td>\n",
       "    </tr>\n",
       "    <tr>\n",
       "      <th>7744</th>\n",
       "      <td>Yours Sincerely, Kanan Gill</td>\n",
       "      <td>Stand-Up</td>\n",
       "    </tr>\n",
       "  </tbody>\n",
       "</table>\n",
       "<p>899 rows × 2 columns</p>\n",
       "</div>"
      ],
      "text/plain": [
       "                                    title             genre\n",
       "0                                      3%  International TV\n",
       "24    ​SAINT SEIYA: Knights of the Zodiac      Anime Series\n",
       "26                               (Un)Well        Reality TV\n",
       "27                                 #Alive     Horror Movies\n",
       "29                               #blackAF       TV Comedies\n",
       "...                                   ...               ...\n",
       "7725                      You Cannot Hide          Crime TV\n",
       "7734                      You've Got This          Comedies\n",
       "7738                      Young Wallander          Crime TV\n",
       "7741            Your Name Engraved Herein            Dramas\n",
       "7744          Yours Sincerely, Kanan Gill          Stand-Up\n",
       "\n",
       "[899 rows x 2 columns]"
      ]
     },
     "execution_count": 28,
     "metadata": {},
     "output_type": "execute_result"
    }
   ],
   "source": [
    "netflix_df.loc[netflix_df.release_year > 2019, [\"title\", \"genre\"]]"
   ]
  },
  {
   "cell_type": "markdown",
   "id": "a2a6a6c1",
   "metadata": {},
   "source": [
    "**.iloc 인덱서**\n",
    "\n",
    "iloc은 loc과 달리 라벨이 아니라 정수로 되어 있는 순서 인덱스만을 받는다. 나머지 로직은 loc과 같다."
   ]
  },
  {
   "cell_type": "code",
   "execution_count": 29,
   "id": "9af53142",
   "metadata": {
    "scrolled": true
   },
   "outputs": [
    {
     "data": {
      "text/html": [
       "<div>\n",
       "<style scoped>\n",
       "    .dataframe tbody tr th:only-of-type {\n",
       "        vertical-align: middle;\n",
       "    }\n",
       "\n",
       "    .dataframe tbody tr th {\n",
       "        vertical-align: top;\n",
       "    }\n",
       "\n",
       "    .dataframe thead th {\n",
       "        text-align: right;\n",
       "    }\n",
       "</style>\n",
       "<table border=\"1\" class=\"dataframe\">\n",
       "  <thead>\n",
       "    <tr style=\"text-align: right;\">\n",
       "      <th></th>\n",
       "      <th>title</th>\n",
       "      <th>director</th>\n",
       "      <th>cast</th>\n",
       "      <th>country</th>\n",
       "    </tr>\n",
       "  </thead>\n",
       "  <tbody>\n",
       "    <tr>\n",
       "      <th>0</th>\n",
       "      <td>3%</td>\n",
       "      <td>NaN</td>\n",
       "      <td>João Miguel, Bianca Comparato, Michel Gomes, R...</td>\n",
       "      <td>Brazil</td>\n",
       "    </tr>\n",
       "    <tr>\n",
       "      <th>1</th>\n",
       "      <td>7:19</td>\n",
       "      <td>Jorge Michel Grau</td>\n",
       "      <td>Demián Bichir, Héctor Bonilla, Oscar Serrano, ...</td>\n",
       "      <td>Mexico</td>\n",
       "    </tr>\n",
       "    <tr>\n",
       "      <th>2</th>\n",
       "      <td>23:59</td>\n",
       "      <td>Gilbert Chan</td>\n",
       "      <td>Tedd Chan, Stella Chung, Henley Hii, Lawrence ...</td>\n",
       "      <td>Singapore</td>\n",
       "    </tr>\n",
       "    <tr>\n",
       "      <th>3</th>\n",
       "      <td>9</td>\n",
       "      <td>Shane Acker</td>\n",
       "      <td>Elijah Wood, John C. Reilly, Jennifer Connelly...</td>\n",
       "      <td>United States</td>\n",
       "    </tr>\n",
       "  </tbody>\n",
       "</table>\n",
       "</div>"
      ],
      "text/plain": [
       "   title           director  \\\n",
       "0     3%                NaN   \n",
       "1   7:19  Jorge Michel Grau   \n",
       "2  23:59       Gilbert Chan   \n",
       "3      9        Shane Acker   \n",
       "\n",
       "                                                cast        country  \n",
       "0  João Miguel, Bianca Comparato, Michel Gomes, R...         Brazil  \n",
       "1  Demián Bichir, Héctor Bonilla, Oscar Serrano, ...         Mexico  \n",
       "2  Tedd Chan, Stella Chung, Henley Hii, Lawrence ...      Singapore  \n",
       "3  Elijah Wood, John C. Reilly, Jennifer Connelly...  United States  "
      ]
     },
     "execution_count": 29,
     "metadata": {},
     "output_type": "execute_result"
    }
   ],
   "source": [
    "netflix_df.iloc[0:4, 2:6]"
   ]
  },
  {
   "cell_type": "markdown",
   "id": "b509cac5",
   "metadata": {},
   "source": [
    "**.set_index()** 는 기존의 행 인덱스를 제거하고 데이터 열 중 하나를 인덱스로 설정한다. (다시 처음으로 되돌리려면 .reset_index()를 사용하면 된다.)"
   ]
  },
  {
   "cell_type": "code",
   "execution_count": 30,
   "id": "574f2f1f",
   "metadata": {
    "scrolled": true
   },
   "outputs": [
    {
     "data": {
      "text/html": [
       "<div>\n",
       "<style scoped>\n",
       "    .dataframe tbody tr th:only-of-type {\n",
       "        vertical-align: middle;\n",
       "    }\n",
       "\n",
       "    .dataframe tbody tr th {\n",
       "        vertical-align: top;\n",
       "    }\n",
       "\n",
       "    .dataframe thead th {\n",
       "        text-align: right;\n",
       "    }\n",
       "</style>\n",
       "<table border=\"1\" class=\"dataframe\">\n",
       "  <thead>\n",
       "    <tr style=\"text-align: right;\">\n",
       "      <th></th>\n",
       "      <th>type</th>\n",
       "      <th>title</th>\n",
       "      <th>director</th>\n",
       "      <th>cast</th>\n",
       "      <th>country</th>\n",
       "      <th>date_added</th>\n",
       "      <th>release_year</th>\n",
       "      <th>duration</th>\n",
       "      <th>description</th>\n",
       "      <th>genre</th>\n",
       "    </tr>\n",
       "    <tr>\n",
       "      <th>show_id</th>\n",
       "      <th></th>\n",
       "      <th></th>\n",
       "      <th></th>\n",
       "      <th></th>\n",
       "      <th></th>\n",
       "      <th></th>\n",
       "      <th></th>\n",
       "      <th></th>\n",
       "      <th></th>\n",
       "      <th></th>\n",
       "    </tr>\n",
       "  </thead>\n",
       "  <tbody>\n",
       "    <tr>\n",
       "      <th>s1</th>\n",
       "      <td>TV Show</td>\n",
       "      <td>3%</td>\n",
       "      <td>NaN</td>\n",
       "      <td>João Miguel, Bianca Comparato, Michel Gomes, R...</td>\n",
       "      <td>Brazil</td>\n",
       "      <td>August 14, 2020</td>\n",
       "      <td>2020</td>\n",
       "      <td>4</td>\n",
       "      <td>In a future where the elite inhabit an island ...</td>\n",
       "      <td>International TV</td>\n",
       "    </tr>\n",
       "    <tr>\n",
       "      <th>s2</th>\n",
       "      <td>Movie</td>\n",
       "      <td>7:19</td>\n",
       "      <td>Jorge Michel Grau</td>\n",
       "      <td>Demián Bichir, Héctor Bonilla, Oscar Serrano, ...</td>\n",
       "      <td>Mexico</td>\n",
       "      <td>December 23, 2016</td>\n",
       "      <td>2016</td>\n",
       "      <td>93</td>\n",
       "      <td>After a devastating earthquake hits Mexico Cit...</td>\n",
       "      <td>Dramas</td>\n",
       "    </tr>\n",
       "    <tr>\n",
       "      <th>s3</th>\n",
       "      <td>Movie</td>\n",
       "      <td>23:59</td>\n",
       "      <td>Gilbert Chan</td>\n",
       "      <td>Tedd Chan, Stella Chung, Henley Hii, Lawrence ...</td>\n",
       "      <td>Singapore</td>\n",
       "      <td>December 20, 2018</td>\n",
       "      <td>2011</td>\n",
       "      <td>78</td>\n",
       "      <td>When an army recruit is found dead, his fellow...</td>\n",
       "      <td>Horror Movies</td>\n",
       "    </tr>\n",
       "    <tr>\n",
       "      <th>s4</th>\n",
       "      <td>Movie</td>\n",
       "      <td>9</td>\n",
       "      <td>Shane Acker</td>\n",
       "      <td>Elijah Wood, John C. Reilly, Jennifer Connelly...</td>\n",
       "      <td>United States</td>\n",
       "      <td>November 16, 2017</td>\n",
       "      <td>2009</td>\n",
       "      <td>80</td>\n",
       "      <td>In a postapocalyptic world, rag-doll robots hi...</td>\n",
       "      <td>Action</td>\n",
       "    </tr>\n",
       "    <tr>\n",
       "      <th>s5</th>\n",
       "      <td>Movie</td>\n",
       "      <td>21</td>\n",
       "      <td>Robert Luketic</td>\n",
       "      <td>Jim Sturgess, Kevin Spacey, Kate Bosworth, Aar...</td>\n",
       "      <td>United States</td>\n",
       "      <td>January 1, 2020</td>\n",
       "      <td>2008</td>\n",
       "      <td>123</td>\n",
       "      <td>A brilliant group of students become card-coun...</td>\n",
       "      <td>Dramas</td>\n",
       "    </tr>\n",
       "    <tr>\n",
       "      <th>...</th>\n",
       "      <td>...</td>\n",
       "      <td>...</td>\n",
       "      <td>...</td>\n",
       "      <td>...</td>\n",
       "      <td>...</td>\n",
       "      <td>...</td>\n",
       "      <td>...</td>\n",
       "      <td>...</td>\n",
       "      <td>...</td>\n",
       "      <td>...</td>\n",
       "    </tr>\n",
       "    <tr>\n",
       "      <th>s7783</th>\n",
       "      <td>Movie</td>\n",
       "      <td>Zozo</td>\n",
       "      <td>Josef Fares</td>\n",
       "      <td>Imad Creidi, Antoinette Turk, Elias Gergi, Car...</td>\n",
       "      <td>Sweden</td>\n",
       "      <td>October 19, 2020</td>\n",
       "      <td>2005</td>\n",
       "      <td>99</td>\n",
       "      <td>When Lebanon's Civil War deprives Zozo of his ...</td>\n",
       "      <td>Dramas</td>\n",
       "    </tr>\n",
       "    <tr>\n",
       "      <th>s7784</th>\n",
       "      <td>Movie</td>\n",
       "      <td>Zubaan</td>\n",
       "      <td>Mozez Singh</td>\n",
       "      <td>Vicky Kaushal, Sarah-Jane Dias, Raaghav Chanan...</td>\n",
       "      <td>India</td>\n",
       "      <td>March 2, 2019</td>\n",
       "      <td>2015</td>\n",
       "      <td>111</td>\n",
       "      <td>A scrappy but poor boy worms his way into a ty...</td>\n",
       "      <td>Dramas</td>\n",
       "    </tr>\n",
       "    <tr>\n",
       "      <th>s7785</th>\n",
       "      <td>Movie</td>\n",
       "      <td>Zulu Man in Japan</td>\n",
       "      <td>NaN</td>\n",
       "      <td>Nasty C</td>\n",
       "      <td>NaN</td>\n",
       "      <td>September 25, 2020</td>\n",
       "      <td>2019</td>\n",
       "      <td>44</td>\n",
       "      <td>In this documentary, South African rapper Nast...</td>\n",
       "      <td>Documentaries</td>\n",
       "    </tr>\n",
       "    <tr>\n",
       "      <th>s7786</th>\n",
       "      <td>TV Show</td>\n",
       "      <td>Zumbo's Just Desserts</td>\n",
       "      <td>NaN</td>\n",
       "      <td>Adriano Zumbo, Rachel Khoo</td>\n",
       "      <td>Australia</td>\n",
       "      <td>October 31, 2020</td>\n",
       "      <td>2019</td>\n",
       "      <td>1</td>\n",
       "      <td>Dessert wizard Adriano Zumbo looks for the nex...</td>\n",
       "      <td>International TV</td>\n",
       "    </tr>\n",
       "    <tr>\n",
       "      <th>s7787</th>\n",
       "      <td>Movie</td>\n",
       "      <td>ZZ TOP: THAT LITTLE OL' BAND FROM TEXAS</td>\n",
       "      <td>Sam Dunn</td>\n",
       "      <td>NaN</td>\n",
       "      <td>United Kingdom</td>\n",
       "      <td>March 1, 2020</td>\n",
       "      <td>2019</td>\n",
       "      <td>90</td>\n",
       "      <td>This documentary delves into the mystique behi...</td>\n",
       "      <td>Documentaries</td>\n",
       "    </tr>\n",
       "  </tbody>\n",
       "</table>\n",
       "<p>7787 rows × 10 columns</p>\n",
       "</div>"
      ],
      "text/plain": [
       "            type                                    title           director  \\\n",
       "show_id                                                                        \n",
       "s1       TV Show                                       3%                NaN   \n",
       "s2         Movie                                     7:19  Jorge Michel Grau   \n",
       "s3         Movie                                    23:59       Gilbert Chan   \n",
       "s4         Movie                                        9        Shane Acker   \n",
       "s5         Movie                                       21     Robert Luketic   \n",
       "...          ...                                      ...                ...   \n",
       "s7783      Movie                                     Zozo        Josef Fares   \n",
       "s7784      Movie                                   Zubaan        Mozez Singh   \n",
       "s7785      Movie                        Zulu Man in Japan                NaN   \n",
       "s7786    TV Show                    Zumbo's Just Desserts                NaN   \n",
       "s7787      Movie  ZZ TOP: THAT LITTLE OL' BAND FROM TEXAS           Sam Dunn   \n",
       "\n",
       "                                                      cast         country  \\\n",
       "show_id                                                                      \n",
       "s1       João Miguel, Bianca Comparato, Michel Gomes, R...          Brazil   \n",
       "s2       Demián Bichir, Héctor Bonilla, Oscar Serrano, ...          Mexico   \n",
       "s3       Tedd Chan, Stella Chung, Henley Hii, Lawrence ...       Singapore   \n",
       "s4       Elijah Wood, John C. Reilly, Jennifer Connelly...   United States   \n",
       "s5       Jim Sturgess, Kevin Spacey, Kate Bosworth, Aar...   United States   \n",
       "...                                                    ...             ...   \n",
       "s7783    Imad Creidi, Antoinette Turk, Elias Gergi, Car...          Sweden   \n",
       "s7784    Vicky Kaushal, Sarah-Jane Dias, Raaghav Chanan...           India   \n",
       "s7785                                              Nasty C             NaN   \n",
       "s7786                           Adriano Zumbo, Rachel Khoo       Australia   \n",
       "s7787                                                  NaN  United Kingdom   \n",
       "\n",
       "                 date_added  release_year  duration  \\\n",
       "show_id                                               \n",
       "s1          August 14, 2020          2020         4   \n",
       "s2        December 23, 2016          2016        93   \n",
       "s3        December 20, 2018          2011        78   \n",
       "s4        November 16, 2017          2009        80   \n",
       "s5          January 1, 2020          2008       123   \n",
       "...                     ...           ...       ...   \n",
       "s7783      October 19, 2020          2005        99   \n",
       "s7784         March 2, 2019          2015       111   \n",
       "s7785    September 25, 2020          2019        44   \n",
       "s7786      October 31, 2020          2019         1   \n",
       "s7787         March 1, 2020          2019        90   \n",
       "\n",
       "                                               description             genre  \n",
       "show_id                                                                       \n",
       "s1       In a future where the elite inhabit an island ...  International TV  \n",
       "s2       After a devastating earthquake hits Mexico Cit...            Dramas  \n",
       "s3       When an army recruit is found dead, his fellow...     Horror Movies  \n",
       "s4       In a postapocalyptic world, rag-doll robots hi...            Action  \n",
       "s5       A brilliant group of students become card-coun...            Dramas  \n",
       "...                                                    ...               ...  \n",
       "s7783    When Lebanon's Civil War deprives Zozo of his ...            Dramas  \n",
       "s7784    A scrappy but poor boy worms his way into a ty...            Dramas  \n",
       "s7785    In this documentary, South African rapper Nast...     Documentaries  \n",
       "s7786    Dessert wizard Adriano Zumbo looks for the nex...  International TV  \n",
       "s7787    This documentary delves into the mystique behi...     Documentaries  \n",
       "\n",
       "[7787 rows x 10 columns]"
      ]
     },
     "execution_count": 30,
     "metadata": {},
     "output_type": "execute_result"
    }
   ],
   "source": [
    "netflix_df.set_index(\"show_id\")"
   ]
  },
  {
   "cell_type": "markdown",
   "id": "01446278",
   "metadata": {},
   "source": [
    "**.sort_values()** 는 데이터 값을 기준으로 정렬한다."
   ]
  },
  {
   "cell_type": "code",
   "execution_count": 32,
   "id": "ac69da49",
   "metadata": {
    "scrolled": true
   },
   "outputs": [
    {
     "data": {
      "text/html": [
       "<div>\n",
       "<style scoped>\n",
       "    .dataframe tbody tr th:only-of-type {\n",
       "        vertical-align: middle;\n",
       "    }\n",
       "\n",
       "    .dataframe tbody tr th {\n",
       "        vertical-align: top;\n",
       "    }\n",
       "\n",
       "    .dataframe thead th {\n",
       "        text-align: right;\n",
       "    }\n",
       "</style>\n",
       "<table border=\"1\" class=\"dataframe\">\n",
       "  <thead>\n",
       "    <tr style=\"text-align: right;\">\n",
       "      <th></th>\n",
       "      <th>show_id</th>\n",
       "      <th>type</th>\n",
       "      <th>title</th>\n",
       "      <th>director</th>\n",
       "      <th>cast</th>\n",
       "      <th>country</th>\n",
       "      <th>date_added</th>\n",
       "      <th>release_year</th>\n",
       "      <th>duration</th>\n",
       "      <th>description</th>\n",
       "      <th>genre</th>\n",
       "    </tr>\n",
       "  </thead>\n",
       "  <tbody>\n",
       "    <tr>\n",
       "      <th>3089</th>\n",
       "      <td>s3090</td>\n",
       "      <td>Movie</td>\n",
       "      <td>최강전사 미니특공대 : 영웅의 탄생</td>\n",
       "      <td>Young Jun Lee</td>\n",
       "      <td>Um Sang-hyun, Yang Jeong-hwa, Jeon Tae-yeol, S...</td>\n",
       "      <td>NaN</td>\n",
       "      <td>September 1, 2018</td>\n",
       "      <td>2018</td>\n",
       "      <td>68</td>\n",
       "      <td>Miniforce, a special task force of elite range...</td>\n",
       "      <td>Children</td>\n",
       "    </tr>\n",
       "    <tr>\n",
       "      <th>2929</th>\n",
       "      <td>s2930</td>\n",
       "      <td>Movie</td>\n",
       "      <td>반드시 잡는다</td>\n",
       "      <td>Hong-seon Kim</td>\n",
       "      <td>Baek Yoon-sik</td>\n",
       "      <td>South Korea</td>\n",
       "      <td>February 28, 2018</td>\n",
       "      <td>2017</td>\n",
       "      <td>110</td>\n",
       "      <td>After people in his town start turning up dead...</td>\n",
       "      <td>Dramas</td>\n",
       "    </tr>\n",
       "    <tr>\n",
       "      <th>3071</th>\n",
       "      <td>s3072</td>\n",
       "      <td>TV Show</td>\n",
       "      <td>마녀사냥</td>\n",
       "      <td>NaN</td>\n",
       "      <td>Si-kyung Sung, Se-yoon Yoo, Dong-yup Shin, Ji-...</td>\n",
       "      <td>South Korea</td>\n",
       "      <td>February 19, 2018</td>\n",
       "      <td>2015</td>\n",
       "      <td>1</td>\n",
       "      <td>Four Korean celebrity men and guest stars of b...</td>\n",
       "      <td>International TV</td>\n",
       "    </tr>\n",
       "    <tr>\n",
       "      <th>2082</th>\n",
       "      <td>s2083</td>\n",
       "      <td>TV Show</td>\n",
       "      <td>海的儿子</td>\n",
       "      <td>NaN</td>\n",
       "      <td>Li Nanxing, Christopher Lee, Jesseca Liu, Appl...</td>\n",
       "      <td>NaN</td>\n",
       "      <td>April 27, 2018</td>\n",
       "      <td>2016</td>\n",
       "      <td>1</td>\n",
       "      <td>Two brothers start a new life in Singapore, wh...</td>\n",
       "      <td>International TV</td>\n",
       "    </tr>\n",
       "    <tr>\n",
       "      <th>556</th>\n",
       "      <td>s557</td>\n",
       "      <td>TV Show</td>\n",
       "      <td>忍者ハットリくん</td>\n",
       "      <td>NaN</td>\n",
       "      <td>NaN</td>\n",
       "      <td>Japan</td>\n",
       "      <td>December 23, 2018</td>\n",
       "      <td>2012</td>\n",
       "      <td>2</td>\n",
       "      <td>Hailing from the mountains of Iga, Kanzo Hatto...</td>\n",
       "      <td>Anime Series</td>\n",
       "    </tr>\n",
       "    <tr>\n",
       "      <th>...</th>\n",
       "      <td>...</td>\n",
       "      <td>...</td>\n",
       "      <td>...</td>\n",
       "      <td>...</td>\n",
       "      <td>...</td>\n",
       "      <td>...</td>\n",
       "      <td>...</td>\n",
       "      <td>...</td>\n",
       "      <td>...</td>\n",
       "      <td>...</td>\n",
       "      <td>...</td>\n",
       "    </tr>\n",
       "    <tr>\n",
       "      <th>34</th>\n",
       "      <td>s35</td>\n",
       "      <td>Movie</td>\n",
       "      <td>#Roxy</td>\n",
       "      <td>Michael Kennedy</td>\n",
       "      <td>Jake Short, Sarah Fisher, Booboo Stewart, Dann...</td>\n",
       "      <td>Canada</td>\n",
       "      <td>April 10, 2019</td>\n",
       "      <td>2018</td>\n",
       "      <td>105</td>\n",
       "      <td>A teenage hacker with a huge nose helps a cool...</td>\n",
       "      <td>Comedies</td>\n",
       "    </tr>\n",
       "    <tr>\n",
       "      <th>32</th>\n",
       "      <td>s33</td>\n",
       "      <td>Movie</td>\n",
       "      <td>#FriendButMarried 2</td>\n",
       "      <td>Rako Prijanto</td>\n",
       "      <td>Adipati Dolken, Mawar de Jongh, Sari Nila, Von...</td>\n",
       "      <td>Indonesia</td>\n",
       "      <td>June 28, 2020</td>\n",
       "      <td>2020</td>\n",
       "      <td>104</td>\n",
       "      <td>As Ayu and Ditto finally transition from best ...</td>\n",
       "      <td>Dramas</td>\n",
       "    </tr>\n",
       "    <tr>\n",
       "      <th>31</th>\n",
       "      <td>s32</td>\n",
       "      <td>Movie</td>\n",
       "      <td>#FriendButMarried</td>\n",
       "      <td>Rako Prijanto</td>\n",
       "      <td>Adipati Dolken, Vanesha Prescilla, Rendi Jhon,...</td>\n",
       "      <td>Indonesia</td>\n",
       "      <td>May 21, 2020</td>\n",
       "      <td>2018</td>\n",
       "      <td>102</td>\n",
       "      <td>Pining for his high school crush for years, a ...</td>\n",
       "      <td>Dramas</td>\n",
       "    </tr>\n",
       "    <tr>\n",
       "      <th>28</th>\n",
       "      <td>s29</td>\n",
       "      <td>Movie</td>\n",
       "      <td>#AnneFrank - Parallel Stories</td>\n",
       "      <td>Sabina Fedeli, Anna Migotto</td>\n",
       "      <td>Helen Mirren, Gengher Gatti</td>\n",
       "      <td>Italy</td>\n",
       "      <td>July 1, 2020</td>\n",
       "      <td>2019</td>\n",
       "      <td>95</td>\n",
       "      <td>Through her diary, Anne Frank's story is retol...</td>\n",
       "      <td>Documentaries</td>\n",
       "    </tr>\n",
       "    <tr>\n",
       "      <th>27</th>\n",
       "      <td>s28</td>\n",
       "      <td>Movie</td>\n",
       "      <td>#Alive</td>\n",
       "      <td>Cho Il</td>\n",
       "      <td>Yoo Ah-in, Park Shin-hye</td>\n",
       "      <td>South Korea</td>\n",
       "      <td>September 8, 2020</td>\n",
       "      <td>2020</td>\n",
       "      <td>99</td>\n",
       "      <td>As a grisly virus rampages a city, a lone man ...</td>\n",
       "      <td>Horror Movies</td>\n",
       "    </tr>\n",
       "  </tbody>\n",
       "</table>\n",
       "<p>7787 rows × 11 columns</p>\n",
       "</div>"
      ],
      "text/plain": [
       "     show_id     type                          title  \\\n",
       "3089   s3090    Movie            최강전사 미니특공대 : 영웅의 탄생   \n",
       "2929   s2930    Movie                        반드시 잡는다   \n",
       "3071   s3072  TV Show                           마녀사냥   \n",
       "2082   s2083  TV Show                           海的儿子   \n",
       "556     s557  TV Show                       忍者ハットリくん   \n",
       "...      ...      ...                            ...   \n",
       "34       s35    Movie                          #Roxy   \n",
       "32       s33    Movie            #FriendButMarried 2   \n",
       "31       s32    Movie              #FriendButMarried   \n",
       "28       s29    Movie  #AnneFrank - Parallel Stories   \n",
       "27       s28    Movie                         #Alive   \n",
       "\n",
       "                         director  \\\n",
       "3089                Young Jun Lee   \n",
       "2929                Hong-seon Kim   \n",
       "3071                          NaN   \n",
       "2082                          NaN   \n",
       "556                           NaN   \n",
       "...                           ...   \n",
       "34                Michael Kennedy   \n",
       "32                  Rako Prijanto   \n",
       "31                  Rako Prijanto   \n",
       "28    Sabina Fedeli, Anna Migotto   \n",
       "27                         Cho Il   \n",
       "\n",
       "                                                   cast      country  \\\n",
       "3089  Um Sang-hyun, Yang Jeong-hwa, Jeon Tae-yeol, S...          NaN   \n",
       "2929                                      Baek Yoon-sik  South Korea   \n",
       "3071  Si-kyung Sung, Se-yoon Yoo, Dong-yup Shin, Ji-...  South Korea   \n",
       "2082  Li Nanxing, Christopher Lee, Jesseca Liu, Appl...          NaN   \n",
       "556                                                 NaN        Japan   \n",
       "...                                                 ...          ...   \n",
       "34    Jake Short, Sarah Fisher, Booboo Stewart, Dann...       Canada   \n",
       "32    Adipati Dolken, Mawar de Jongh, Sari Nila, Von...    Indonesia   \n",
       "31    Adipati Dolken, Vanesha Prescilla, Rendi Jhon,...    Indonesia   \n",
       "28                          Helen Mirren, Gengher Gatti        Italy   \n",
       "27                             Yoo Ah-in, Park Shin-hye  South Korea   \n",
       "\n",
       "              date_added  release_year  duration  \\\n",
       "3089   September 1, 2018          2018        68   \n",
       "2929   February 28, 2018          2017       110   \n",
       "3071   February 19, 2018          2015         1   \n",
       "2082      April 27, 2018          2016         1   \n",
       "556    December 23, 2018          2012         2   \n",
       "...                  ...           ...       ...   \n",
       "34        April 10, 2019          2018       105   \n",
       "32         June 28, 2020          2020       104   \n",
       "31          May 21, 2020          2018       102   \n",
       "28          July 1, 2020          2019        95   \n",
       "27     September 8, 2020          2020        99   \n",
       "\n",
       "                                            description             genre  \n",
       "3089  Miniforce, a special task force of elite range...          Children  \n",
       "2929  After people in his town start turning up dead...            Dramas  \n",
       "3071  Four Korean celebrity men and guest stars of b...  International TV  \n",
       "2082  Two brothers start a new life in Singapore, wh...  International TV  \n",
       "556   Hailing from the mountains of Iga, Kanzo Hatto...      Anime Series  \n",
       "...                                                 ...               ...  \n",
       "34    A teenage hacker with a huge nose helps a cool...          Comedies  \n",
       "32    As Ayu and Ditto finally transition from best ...            Dramas  \n",
       "31    Pining for his high school crush for years, a ...            Dramas  \n",
       "28    Through her diary, Anne Frank's story is retol...     Documentaries  \n",
       "27    As a grisly virus rampages a city, a lone man ...     Horror Movies  \n",
       "\n",
       "[7787 rows x 11 columns]"
      ]
     },
     "execution_count": 32,
     "metadata": {},
     "output_type": "execute_result"
    }
   ],
   "source": [
    "netflix_df.sort_values(\"title\", ascending=False)"
   ]
  },
  {
   "cell_type": "markdown",
   "id": "6f4f02c2",
   "metadata": {},
   "source": [
    "# 2. Matplotlib\n",
    "- Matplotlib이란 파이썬의 대표적인 데이터 시각화 라이브러리이다.\n",
    "- 이번 1주차 실습에서는 기본적인 그래프를 그리기 위한 matplotlib의 여러 함수들을 실습한다.\n",
    "- 그래프를 꾸미기 위한 다양한 함수들은 (폰트 지정, 위치 지정, 테두리 등) 여기서 다루지 않았기 때문에 밑에 있는 링크를 참고하길 바란다.\n",
    "- Matplotlib Tutorial - 파이썬으로 데이터 시각화하기 : \n",
    "https://wikidocs.net/book/5011"
   ]
  },
  {
   "cell_type": "markdown",
   "id": "7fb64a33-3fcf-41b1-9016-e30181dced55",
   "metadata": {},
   "source": [
    "## 기본 그래프 그리기\n",
    "- plot(): 선(line) 또는 마커(marker) 그래프 그리기에 사용되는 함수이다. 함수에 y값을 리스트 형태로 입력하면 꺾은선 그래프가 그려진다.\n",
    "- show() : 화면에 그래프가 나타나도록 하는 함수."
   ]
  },
  {
   "cell_type": "code",
   "execution_count": null,
   "id": "98ba870d",
   "metadata": {},
   "outputs": [],
   "source": [
    "import matplotlib.pyplot as plt"
   ]
  },
  {
   "cell_type": "code",
   "execution_count": 5,
   "id": "81c06c34-a2b5-4cba-bb74-47eacd2a9fc1",
   "metadata": {},
   "outputs": [
    {
     "data": {
      "image/png": "[encoded data removed]",
      "text/plain": [
       "<Figure size 432x288 with 1 Axes>"
      ]
     },
     "metadata": {
      "needs_background": "light"
     },
     "output_type": "display_data"
    }
   ],
   "source": [
    "# 예제 1 \n",
    "# plot() : 하나의 리스트 형태로 값들을 입력하면 y값으로 인식한다. \n",
    "# x 값은 기본적으로 [0, 1, 2, 3]이 되어 점 (0, 2), (1, 3), (2, 5), (3, 10)를 잇는 아래와 같은 꺾은선 그래프가 나타난다.\n",
    "\n",
    "plt.plot([2, 3, 5, 10]) #리스트에 들어있는 값들은 y-values\n",
    "plt.show()"
   ]
  },
  {
   "cell_type": "code",
   "execution_count": 3,
   "id": "62dd3205",
   "metadata": {},
   "outputs": [
    {
     "data": {
      "image/png": "[encoded data removed]",
      "text/plain": [
       "<Figure size 432x288 with 1 Axes>"
      ]
     },
     "metadata": {
      "needs_background": "light"
     },
     "output_type": "display_data"
    }
   ],
   "source": [
    "#예제2\n",
    "# plot() 함수에 두 개의 리스트를 입력하면 순서대로 x, y 값들로 인식해서\n",
    "# 점 (1, 1), (2, 4), (3, 9), (4, 16)를 잇는 꺾은선 그래프가 나타납니다.\n",
    "\n",
    "plt.plot([1, 2, 3, 4], [1, 4, 9, 16])\n",
    "plt.show()"
   ]
  },
  {
   "cell_type": "markdown",
   "id": "9fe7a8a2",
   "metadata": {},
   "source": [
    "## 레이블이 있는 데이터 사용하기\n",
    "- 파이썬 딕셔너리와 같이 레이블이 있는 데이터를 그래프로 나타낼 수 있다. \n",
    "- plot() 함수에 데이터의 레이블(딕셔너리의 키)을 입력\n",
    "- data 파라미터에 딕셔너리 지정"
   ]
  },
  {
   "cell_type": "code",
   "execution_count": 2,
   "id": "bc002995",
   "metadata": {
    "scrolled": true
   },
   "outputs": [
    {
     "data": {
      "image/png": "[encoded data removed]",
      "text/plain": [
       "<Figure size 432x288 with 1 Axes>"
      ]
     },
     "metadata": {
      "needs_background": "light"
     },
     "output_type": "display_data"
    }
   ],
   "source": [
    "# 예제\n",
    "import matplotlib.pyplot as plt\n",
    "data_dict = {'data_x': [1, 2, 3, 4, 5], 'data_y': [2, 3, 5, 10, 8]}\n",
    "\n",
    "plt.plot('data_x', 'data_y', data=data_dict)\n",
    "plt.show()"
   ]
  },
  {
   "cell_type": "markdown",
   "id": "153af760",
   "metadata": {},
   "source": [
    "## 축 레이블 설정하기\n",
    "- xlabel(), ylabel() 함수를 사용하면 그래프의 x, y 축에 대한 레이블을 표시할 수 있다.\n",
    "- xlabel(), ylabel() 함수에 문자열을 입력하면, 각각의 축에 레이블이 표시된다."
   ]
  },
  {
   "cell_type": "code",
   "execution_count": 2,
   "id": "9fef1e14",
   "metadata": {},
   "outputs": [
    {
     "data": {
      "image/png": "[encoded data removed]",
      "text/plain": [
       "<Figure size 432x288 with 1 Axes>"
      ]
     },
     "metadata": {
      "needs_background": "light"
     },
     "output_type": "display_data"
    }
   ],
   "source": [
    "# 예제\n",
    "import matplotlib.pyplot as plt\n",
    "\n",
    "plt.plot([1, 2, 3, 4], [1, 4, 9, 16])\n",
    "plt.xlabel('X-Label')\n",
    "plt.ylabel('Y-Label')\n",
    "plt.show()"
   ]
  },
  {
   "cell_type": "markdown",
   "id": "6b7113df",
   "metadata": {},
   "source": [
    "## 범례(legend) 표시하기\n",
    "- 범례(legend)는 그래프에 데이터의 종류를 표시하기 위한 텍스트이다.\n",
    "- 우선 plot() 함수에 label 문자열을 지정하고,\n",
    "- matplotlib.pyplot 모듈의 legend() 함수를 호출한다."
   ]
  },
  {
   "cell_type": "code",
   "execution_count": 6,
   "id": "919afd6b",
   "metadata": {
    "scrolled": true
   },
   "outputs": [
    {
     "data": {
      "image/png": "[encoded data removed]",
      "text/plain": [
       "<Figure size 432x288 with 1 Axes>"
      ]
     },
     "metadata": {
      "needs_background": "light"
     },
     "output_type": "display_data"
    }
   ],
   "source": [
    "# 예제\n",
    "plt.plot([1, 2, 3, 4], [2, 3, 5, 10], label='Price ($)')\n",
    "plt.xlabel('X-Axis')\n",
    "plt.ylabel('Y-Axis')\n",
    "plt.legend() #위에 그래프에 표시됨\n",
    "\n",
    "plt.show()"
   ]
  },
  {
   "cell_type": "markdown",
   "id": "6bd7abfc",
   "metadata": {},
   "source": [
    "## Plot 여러 종류\n",
    "- Line Plot : <code>.plot()</code>\n",
    "- Scatter Plot : <code>.scatter()</code>\n",
    "- Bar Chart : <code>.bar()</code>\n",
    "- Histogram : <code>.hist()</code>\n",
    "- Box Plot : <code>.boxplot()</code>\n",
    "- Pie Chart : <code>.pie()</code>"
   ]
  },
  {
   "cell_type": "markdown",
   "id": "9ef02e70",
   "metadata": {},
   "source": [
    "## Plot 설정(Line Plot 기준)\n",
    "\n",
    "plt.plot([1, 2, 3], [3, 3, 3], '--', marker='.', color='C0', label='Dashed')"
   ]
  },
  {
   "cell_type": "markdown",
   "id": "9f04bff1",
   "metadata": {},
   "source": [
    "## Plot 기타 설정\n",
    "\n",
    "- 크기 : <code>plt.figsize</code>\n",
    "- 제목 : <code>plt.title</code>\n",
    "- 라벨 : <code>plt.xlabel</code>, <code>plt.ylabel</code>\n",
    "- 틱 : <code>plt.xticks</code>, <code>plt.yticks</code>\n",
    "- 범례 : <code>plt.legend</code>\n",
    "- 축 범위 : <code>plt.axis</code>"
   ]
  },
  {
   "cell_type": "code",
   "execution_count": 7,
   "id": "4e2cc546",
   "metadata": {},
   "outputs": [
    {
     "data": {
      "image/png": "[encoded data removed]",
      "text/plain": [
       "<Figure size 432x288 with 1 Axes>"
      ]
     },
     "metadata": {
      "needs_background": "light"
     },
     "output_type": "display_data"
    }
   ],
   "source": [
    "# Matplotlib 정리 예제 : 사과의 수요, 공급 곡선 만들기\n",
    "# 밑 코드 각 줄마다 각주를 사용하여 코드를 설명해보세요.\n",
    "\n",
    "data_dict = {'quantity': [0, 2, 4, 6, 8, 10], 'supply': [0, 2, 5, 7, 10, 17], 'demand': [17, 14, 11, 9, 5, 0]}\n",
    "\n",
    "plt.plot('quantity', 'supply', data=data_dict, label=\"Supply\") \n",
    "plt.plot('quantity', 'demand', data=data_dict, label=\"Demand\") \n",
    "plt.title('Market of apple') \n",
    "plt.xlabel('Quantity') \n",
    "plt.ylabel('Price') \n",
    "plt.axis([0, 10, 0, 17])\n",
    "plt.legend()\n",
    "\n",
    "plt.show()"
   ]
  },
  {
   "cell_type": "markdown",
   "id": "c900ade7",
   "metadata": {},
   "source": [
    "# 3. Seaborn\n",
    "- Seaborn은 기본적으로 matplotlib를 베이스로 하며, pandas 데이터 구조를 사용하여 입출력을 받아 연산을 한다.\n",
    "- Seaborn을 사용할때는 matplotlib와 함께 import 해서 사용한다.\n",
    "- 이번 실습에서는 seaborn 패키지의 내장데이터인 iris 데이터를 활용하여 그래프를 그리는 연습을 진행한다. "
   ]
  },
  {
   "cell_type": "markdown",
   "id": "9d59dc24",
   "metadata": {},
   "source": [
    "### seaborn패키지의 load_dataset()함수\n",
    "- seaborn패키지의 내장데이터를 가져옴"
   ]
  },
  {
   "cell_type": "code",
   "execution_count": 34,
   "id": "e08e59d2",
   "metadata": {},
   "outputs": [],
   "source": [
    "import matplotlib.pyplot as plt   # for plotting\n",
    "import seaborn as sns\n",
    "iris = sns.load_dataset(\"iris\")    # 붓꽃 데이터"
   ]
  },
  {
   "cell_type": "markdown",
   "id": "ceab82d7",
   "metadata": {},
   "source": [
    "#### seaborn에서는 다음과 같은 샘플 데이터를 제공한다.\n",
    "- iris = sns.load_dataset(\"iris\")    # 붓꽃 데이터\n",
    "- titanic = sns.load_dataset(\"titanic\")    # 타이타닉호 데이터\n",
    "- tips = sns.load_dataset(\"tips\")    # 팁 데이터\n",
    "-  flights = sns.load_dataset(\"flights\")    # 여객운송 데이터"
   ]
  },
  {
   "cell_type": "markdown",
   "id": "45d6ed92",
   "metadata": {},
   "source": [
    "- iris data의 데이터타입 확인"
   ]
  },
  {
   "cell_type": "code",
   "execution_count": 35,
   "id": "aee93d9c",
   "metadata": {
    "scrolled": true
   },
   "outputs": [
    {
     "name": "stdout",
     "output_type": "stream",
     "text": [
      "<class 'pandas.core.frame.DataFrame'>\n"
     ]
    }
   ],
   "source": [
    "print(type(iris)) # pandas의 데이터프레임인 것을 확인할 수 있다."
   ]
  },
  {
   "cell_type": "markdown",
   "id": "bac0e85d",
   "metadata": {},
   "source": [
    "- iris data의 데이터 컬럼속성 및 데이터 확인"
   ]
  },
  {
   "cell_type": "code",
   "execution_count": 36,
   "id": "96415815",
   "metadata": {},
   "outputs": [
    {
     "name": "stdout",
     "output_type": "stream",
     "text": [
      "Index(['sepal_length', 'sepal_width', 'petal_length', 'petal_width',\n",
      "       'species'],\n",
      "      dtype='object')\n"
     ]
    }
   ],
   "source": [
    "print(iris.columns) #컬럼 속성 확인"
   ]
  },
  {
   "cell_type": "code",
   "execution_count": 37,
   "id": "aa4ba63e",
   "metadata": {},
   "outputs": [
    {
     "data": {
      "text/html": [
       "<div>\n",
       "<style scoped>\n",
       "    .dataframe tbody tr th:only-of-type {\n",
       "        vertical-align: middle;\n",
       "    }\n",
       "\n",
       "    .dataframe tbody tr th {\n",
       "        vertical-align: top;\n",
       "    }\n",
       "\n",
       "    .dataframe thead th {\n",
       "        text-align: right;\n",
       "    }\n",
       "</style>\n",
       "<table border=\"1\" class=\"dataframe\">\n",
       "  <thead>\n",
       "    <tr style=\"text-align: right;\">\n",
       "      <th></th>\n",
       "      <th>sepal_length</th>\n",
       "      <th>sepal_width</th>\n",
       "      <th>petal_length</th>\n",
       "      <th>petal_width</th>\n",
       "      <th>species</th>\n",
       "    </tr>\n",
       "  </thead>\n",
       "  <tbody>\n",
       "    <tr>\n",
       "      <th>0</th>\n",
       "      <td>5.1</td>\n",
       "      <td>3.5</td>\n",
       "      <td>1.4</td>\n",
       "      <td>0.2</td>\n",
       "      <td>setosa</td>\n",
       "    </tr>\n",
       "    <tr>\n",
       "      <th>1</th>\n",
       "      <td>4.9</td>\n",
       "      <td>3.0</td>\n",
       "      <td>1.4</td>\n",
       "      <td>0.2</td>\n",
       "      <td>setosa</td>\n",
       "    </tr>\n",
       "    <tr>\n",
       "      <th>2</th>\n",
       "      <td>4.7</td>\n",
       "      <td>3.2</td>\n",
       "      <td>1.3</td>\n",
       "      <td>0.2</td>\n",
       "      <td>setosa</td>\n",
       "    </tr>\n",
       "    <tr>\n",
       "      <th>3</th>\n",
       "      <td>4.6</td>\n",
       "      <td>3.1</td>\n",
       "      <td>1.5</td>\n",
       "      <td>0.2</td>\n",
       "      <td>setosa</td>\n",
       "    </tr>\n",
       "    <tr>\n",
       "      <th>4</th>\n",
       "      <td>5.0</td>\n",
       "      <td>3.6</td>\n",
       "      <td>1.4</td>\n",
       "      <td>0.2</td>\n",
       "      <td>setosa</td>\n",
       "    </tr>\n",
       "  </tbody>\n",
       "</table>\n",
       "</div>"
      ],
      "text/plain": [
       "   sepal_length  sepal_width  petal_length  petal_width species\n",
       "0           5.1          3.5           1.4          0.2  setosa\n",
       "1           4.9          3.0           1.4          0.2  setosa\n",
       "2           4.7          3.2           1.3          0.2  setosa\n",
       "3           4.6          3.1           1.5          0.2  setosa\n",
       "4           5.0          3.6           1.4          0.2  setosa"
      ]
     },
     "execution_count": 37,
     "metadata": {},
     "output_type": "execute_result"
    }
   ],
   "source": [
    "iris.head() #데이터 확인"
   ]
  },
  {
   "cell_type": "markdown",
   "id": "5a66de5c",
   "metadata": {},
   "source": [
    "## iris data를 pandas와 seaborn 각각 사용하여 산점도로 표현해보자.\n",
    "### Pandas"
   ]
  },
  {
   "cell_type": "code",
   "execution_count": 38,
   "id": "6e77d187",
   "metadata": {
    "scrolled": false
   },
   "outputs": [
    {
     "data": {
      "text/plain": [
       "<AxesSubplot:xlabel='sepal_length', ylabel='sepal_width'>"
      ]
     },
     "execution_count": 38,
     "metadata": {},
     "output_type": "execute_result"
    },
    {
     "data": {
      "image/png": "[encoded data removed]",
      "text/plain": [
       "<Figure size 432x288 with 1 Axes>"
      ]
     },
     "metadata": {
      "needs_background": "light"
     },
     "output_type": "display_data"
    }
   ],
   "source": [
    "iris.plot(kind='scatter',x='sepal_length',y='sepal_width',color='red')"
   ]
  },
  {
   "cell_type": "markdown",
   "id": "81ab95e9",
   "metadata": {},
   "source": [
    "### Seaborn"
   ]
  },
  {
   "cell_type": "code",
   "execution_count": 39,
   "id": "a1e00e8f",
   "metadata": {},
   "outputs": [
    {
     "data": {
      "text/plain": [
       "<AxesSubplot:xlabel='sepal_length', ylabel='sepal_width'>"
      ]
     },
     "execution_count": 39,
     "metadata": {},
     "output_type": "execute_result"
    },
    {
     "data": {
      "image/png": "[encoded data removed]",
      "text/plain": [
       "<Figure size 432x288 with 1 Axes>"
      ]
     },
     "metadata": {
      "needs_background": "light"
     },
     "output_type": "display_data"
    }
   ],
   "source": [
    "import seaborn as sns\n",
    "import matplotlib.pyplot as plt\n",
    "sns.scatterplot(x=\"sepal_length\", y=\"sepal_width\", data=iris, style=iris.species,\n",
    "                     hue=iris.species)\n",
    "#hue = iris.species"
   ]
  },
  {
   "cell_type": "markdown",
   "id": "278317c1",
   "metadata": {},
   "source": [
    "# 4. Scikit-Learn\n",
    "- 1주차 실습에서는 scikit-learn을 활용한 **붓꽃 데이터 분류** 실습을 진행한다.\n",
    "- 모델은 교재에서 사용되었던 **k-최근접 이웃 분류 모델**을 활용하여 실습을 진행한다.\n",
    "- 붓꽃 데이터셋은 꽃잎의 길이와 너비, 꽃받침의 길이와 너비 피처(Feature)를 기반으로 꽃의 품종을 예측하기 위한 데이터셋이다."
   ]
  },
  {
   "cell_type": "markdown",
   "id": "3c8038bc",
   "metadata": {},
   "source": [
    "## k-NN 알고리즘 간단하게 알아보기\n",
    "- K-최근접 이웃(K-NN, K-Nearest Neighbor) 알고리즘은 가장 간단한 머신러닝 알고리즘으로, 분류(Classification) 알고리즘이다. \n",
    "- 비슷한 특성을 가진 데이터는 비슷한 범주에 속하는 경향이 있다는 가정하에 사용한다.\n",
    "- 주변의 가장 가까운 K개의 데이터를 보고 데이터가 속할 그룹을 판단하는 알고리즘이 K-NN 알고리즘이다.\n",
    "- K-NN 알고리즘의 특징 중 하나는 K의 값에 따라 분류가 달라질 수 있다는 점이다."
   ]
  },
  {
   "cell_type": "markdown",
   "id": "eb446fd3",
   "metadata": {},
   "source": [
    "### (1) 필요한 모듈을 import하고, 데이터를 불러오기."
   ]
  },
  {
   "cell_type": "code",
   "execution_count": 50,
   "id": "53693ccc",
   "metadata": {},
   "outputs": [],
   "source": [
    "import pandas as pd\n",
    "import matplotlib.pyplot as plt\n",
    " \n",
    "from sklearn.datasets import load_iris\n",
    "from sklearn.neighbors import KNeighborsClassifier\n",
    " \n",
    "iris = load_iris()\n",
    "df = pd.DataFrame(iris.data, columns=iris.feature_names)\n",
    "df['species'] = [iris.target_names[x] for x in iris.target]"
   ]
  },
  {
   "cell_type": "markdown",
   "id": "a4091642",
   "metadata": {},
   "source": [
    "### (2) 학습\n",
    "- n_neighbors parameter : 근접 데이터 수 설정\n",
    "- fit()으로 classifier을 학습시킨다."
   ]
  },
  {
   "cell_type": "code",
   "execution_count": 51,
   "id": "ca36c3ba",
   "metadata": {},
   "outputs": [],
   "source": [
    "X = df.drop('species', axis=1)\n",
    "y = df['species']\n",
    " \n",
    "clf = KNeighborsClassifier(n_neighbors=5).fit(X.values, y) \n",
    "#n_neighbors k를 의미한다고 보면 됨. (피팅시킴)"
   ]
  },
  {
   "cell_type": "markdown",
   "id": "b3a19da2",
   "metadata": {},
   "source": [
    "### (3) 예측\n",
    "- predict() : 예측 결과 확인\n",
    "- score() : 성능 확인\n",
    "- kneighbors() : 주어진 데이터와 근접한 데이터의 인덱스를 n_neighbors에 지정한 수만큼 알아낼 수 있다."
   ]
  },
  {
   "cell_type": "code",
   "execution_count": 52,
   "id": "9926dba4",
   "metadata": {},
   "outputs": [
    {
     "name": "stdout",
     "output_type": "stream",
     "text": [
      "['setosa']\n",
      "[[ 0 17  4 39 28]]\n",
      "정확도 :  0.9666666666666667\n"
     ]
    }
   ],
   "source": [
    "print(clf.predict(X.values[:1])) ## 첫 번째 학습 데이터의 예측 결과\n",
    "print(clf.kneighbors(X.values[:1])[1]) ## 주어진 데이터에 5개의 근접 데이터 인덱스\n",
    "print('정확도 : ', clf.score(X.values, y)) ## 학습 정확도"
   ]
  },
  {
   "cell_type": "code",
   "execution_count": null,
   "id": "63ac4d3a",
   "metadata": {},
   "outputs": [],
   "source": []
  }
 ],
 "metadata": {
  "kernelspec": {
   "display_name": "Python 3 (ipykernel)",
   "language": "python",
   "name": "python3"
  },
  "language_info": {
   "codemirror_mode": {
    "name": "ipython",
    "version": 3
   },
   "file_extension": ".py",
   "mimetype": "text/x-python",
   "name": "python",
   "nbconvert_exporter": "python",
   "pygments_lexer": "ipython3",
   "version": "3.9.12"
  },
  "vscode": {
   "interpreter": {
    "hash": "aee8b7b246df8f9039afb4144a1f6fd8d2ca17a180786b69acc140d282b71a49"
   }
  }
 },
 "nbformat": 4,
 "nbformat_minor": 5
}
